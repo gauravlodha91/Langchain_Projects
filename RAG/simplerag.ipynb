{
 "cells": [
  {
   "cell_type": "markdown",
   "metadata": {},
   "source": [
    "## Simple RAG Pipeline for Text Editor"
   ]
  },
  {
   "cell_type": "code",
   "execution_count": 1,
   "metadata": {},
   "outputs": [
    {
     "data": {
      "text/plain": [
       "True"
      ]
     },
     "execution_count": 1,
     "metadata": {},
     "output_type": "execute_result"
    }
   ],
   "source": [
    "## Import getpass to create propmt to add env variables\n",
    "\n",
    "import getpass\n",
    "import os\n",
    "from dotenv import load_dotenv\n",
    "load_dotenv()"
   ]
  },
  {
   "cell_type": "code",
   "execution_count": 2,
   "metadata": {},
   "outputs": [
    {
     "data": {
      "text/plain": [
       "[Document(metadata={'source': 'docs\\\\Maharana_PratapJi.txt'}, page_content=\"Source : https://www.geeksforgeeks.org/maharana-pratap-biography/\\n\\n\\nMaharana Pratap was a brave Rajput king in India who stood up against the powerful Mughal Empire. He is famous for his courage and refusal to surrender, making him a symbol of resistance and pride for many.\\n\\nMaharana Pratap was a Hindu Rajput king who ruled the Mewar region for 35 years. He was the 13th Maharana of Mewar and a member of the Sisodia dynasty.\\n\\nIn this article, we have covered the complete Maharana Pratap Biography, Why he is Famous, His Family tree, How did he died. His battles and many more in Detail.\\n\\nLetâ€™s dive right in.\\n\\nMaharana Pratap Life Overview\\nThe following is the Life Overview of Maharana Pratap:\\n\\nAspect\\t-->  Details\\nFull Name\\t--> Maharana Pratap Singh\\nBirth Date\\t--> May 9, 1540\\nBirthplace\\t--> Kumbhalgarh, Mewar (present-day Rajasthan)\\nReign\\t-->   1572â€“1597(25 years)\\nDynasty\\t--> Sisodia Rajput\\nFather\\t--> Maharana Udai Singh II\\nMother\\t--> Rani Jeevant Kanwa\\nSpouse  --> Maharani Ajabde Punwar\\nCapital\\t--> Chittorgarh\\nBattles\\t--> Battle of Haldighati (famous) and many more\\nKnown For\\t--> Resisting Mughal Emperor Akbarâ€™s rule\\nLegacy\\t--> Icon of Rajput valor and resistance\\nDeath Date\\t--> January 29, 1597\\nDeath Place\\t--> Chavand, Mewar (present-day Rajasthan)\\nSignificant Events\\t--> Refusal to accept Mughal suzerainty, battles\\nContributions\\t--> Defending Mewar from Mughal expansion\\n\\nMaharana Pratap History\\nMaharana Pratap was originally born as Pratap Singh. He was the elder son of Udai Singh II and Jaiwanta Bai. Rana Pratapâ€™s father Udai Singh II was the founder of Udaipur.\\n\\nMaharana Pratap was born on 9th May 1540 in a Hindu Rajput family who ruled the Mewar region for 35 years. In 1572, after the death of his father, he took over the throne at the age of 32 on 1st March 1572. From that time Pratap Singh became famous as Maharana Pratap.\\n\\nThere are different stories associated with Maharana Pratapâ€™s swords. He always carried a pair of swords which were 25 kg in total. These swords are now in the Indian museum. Here are some details of him as mentioned below:\\n\\nBirth and Lineage:\\nBorn on May 9, 1540, in Kumbhalgarh, Mewar (present-day Rajasthan).\\nBelonged to the Sisodia Rajput dynasty.\\nSon of Maharana Udai Singh II and Rani Jeevant Kanwa.\\n\\n\\nEarly Life:\\nAscended to the throne of Mewar in 1572 at the age of 32.\\nChittorgarh was the capital of his kingdom.\\nChallenges from the Mughals:\\nFaced the expansionist policies of the Mughal Emperor Akbar.\\nRefused to accept Mughal suzerainty and continued to rule independently.\\n\\n\\nBattle of Haldighati (1576):\\nMost famous battle of Maharana Pratapâ€™s life.\\nFought against the Mughal forces led by Raja Man Singh.\\nDespite being outnumbered, he displayed exceptional bravery.\\nThough not a clear victory, it became a symbol of his resistance.\\n\\n\\nLife in Exile:\\nAfter the Battle of Haldighati, Maharana Pratap and his supporters went into the Aravalli hills.\\nLived in the wilderness and continued his guerrilla warfare against the Mughals.\\nStruggle and Persistence:\\nMaharana Pratapâ€™s rule was marked by continuous struggle against the Mughals.\\nHe faced several hardships and battles but remained committed to regaining his kingdom.\\n\\n\\n\\nDeath and Legacy:\\nMaharana Pratap passed away on January 29, 1597, in Chavand, Mewar.\\nHe could not reclaim Chittorgarh during his lifetime.\\nRevered as an icon of Rajput valor and patriotism.\\nHis legacy continues to inspire generations, and he is celebrated as a symbol of resistance against foreign rule.\\n\\nContributions:\\nMaharana Pratapâ€™s unwavering spirit and determination to preserve his kingdomâ€™s independence are his most significant contributions.\\nHe upheld the Rajput code of honor and chivalry throughout his life.\\nHis refusal to submit to Mughal authority earned him the admiration of his people and subsequent generations.\\nMemorials:\\nSeveral memorials and monuments dedicated to Maharana Pratap exist in Rajasthan, including the famous Maharana Pratap Memorial in Udaipur.\\nEducation of Maharana Pratap\\nMaharana Pratap, being a Rajput ruler of his time, received education that was typical for young princes and nobility in his region during the 16th century. His education primarily focused on martial training, valor, and administrative \\n\\n\\nskills rather than formal academic education. His Education includes the following:\\nMartial Training: Maharana Pratap would have been trained in various forms of combat, including archery, swordsmanship, horse riding, and other martial skills. Rajput princes were expected to be skilled warriors.\\nChivalry and Code of Honor: He would have been taught the Rajput code of honor, emphasizing valor, loyalty, and bravery in battle.\\nAdministrative Skills: Training in governance and administration to prepare him for his future role as a ruler of Mewar.\\n\\nHunting and Outdoor Activities: Like many Rajput princes, he likely received training in hunting and other outdoor pursuits.\\n\\nMaharana Pratap Famous For\\nMaharana Pratap is famous for his bravery in battles, especially the Battle of Haldighati, where he stood up against the Mughals. The following is the Maharana Pratapâ€™s Legacy and Significance:\\n\\nBattle of Haldighati: Maharana Pratapâ€™s most famous feat is his courageous stand in the Battle of Haldighati (1576). Despite being outnumbered and facing the Mughal forces led by Raja Man Singh, he displayed exceptional valor. While the battle did not result in a clear victory, it became a symbol of his determination to defend Mewarâ€™s independence.\\nRefusal to Submit to the Mughals: Maharana Pratap staunchly refused to accept Mughal suzerainty and continued to rule independently in defiance of the powerful Mughal Empire. His principled stance earned him the admiration of his people and made him an iconic figure in the history of resistance against foreign rule.\\nSymbol of Rajput Valor: He is celebrated as an epitome of Rajput chivalry, honor, and valor. His unwavering commitment to the Rajput code of honor and his relentless struggle to protect his homeland have made him a legendary figure in Rajput history.\\nLegacy of Independence: Maharana Pratapâ€™s legacy continues to inspire generations as a symbol of independence and patriotism. His refusal to bow down to external powers and his dedication to the sovereignty of Mewar left an indelible mark on Indian history.\\nCultural and Historical Significance: He is an integral part of Rajasthani and Indian folklore, with numerous ballads, stories, and legends celebrating his bravery and resilience. His life and legacy are also a source of pride for the Rajput community. \\n\\n\\nCulture and Art During Maharana Pratapâ€™s Time\\nAfter shifting his capital to Chavand, he patronized so many writers and artisans. This initiative developed the Chavand School of Art later. Maharana Pratap was a Hindu but he stood alone against the Mughals to safeguard Hindu pride and Rajput Honor (à¤†à¤¨-à¤¬à¤¾à¤¨-à¤¶à¤¾à¤¨). A large portion of the population of Mewar was also Hindu.\\n\\nArt and Culture:\\n\\nArt in Mewar during Maharana Pratapâ€™s time reflected the rich Rajput heritage with a focus on intricate paintings, architecture, and crafts.\\nThe Mewar school of painting flourished, known for its miniature paintings depicting Rajput legends, religious themes, and court life.\\nThe architecture of Mewar, including forts and palaces, continued to showcase Rajput architectural styles, with an emphasis on grandeur and defense.\\nReligion:\\n\\nHinduism was the predominant religion in Mewar, and the patronage of temples and religious institutions continued during Maharana Pratapâ€™s rule.\\nThe rulers, including Maharana Pratap, were devout Hindus, and religious rituals and festivals played a significant role in the court and public life.\\nLiterature:\\n\\nRajput poetry and literature thrived during this period, with a focus on heroic epics and ballads celebrating the valor of Rajput warriors.\\nFolklore and oral traditions played a crucial role in preserving the heroic deeds and legends of Rajput heroes, including Maharana Pratap.\\nThe valor and struggles of Maharana Pratap were often celebrated in local folk songs and narratives, contributing to his legendary status.\\nMaharana Pratap Battles\\nMaharana Pratap was the only person who stood alone against the Akbar. Here are some major battles mentioned below which were fought by him.\\n\\n\\nBattle of Haldighati (1576)\\nIt is one of the most significant battles in the Indian history.\\nThe battle was started on 18th June, 1576.\\nThe battle was fought between Maharana Pratap and the Mughal army.\\nRaja Man Singh of Amber led the army who was a trusted general of Emperor Akbar.\\nRana Pratapâ€™s forces showed remarkable courage but faced defeat in this battle at last.\\nMaharana Pratap injured in this battle.\\nBattle of Chittorgarh (1567-1568)\\nMaharana Pratap fought against the Mughal forces in Chittorgarh Fort.\\nAt this time Chittorgarh was the capital of Mewar.\\nIt was under Mughal control for a brief period after when Akbar captured it. Maharana Pratap eventually recaptured the fort.\\n\\n\\nBattle of Dewair (1582)\\nRana Pratap continued his guerrilla warfare against the Mughals after the Battle of Haldighati.\\nThe battle was fought in 1582.\\nIn this battle, Maharana Pratapâ€™s forces succeeded in defeating a Mughal army.\\nThe Mughalsâ€™ force was led by Man Singh I.\\nBattle of Gogunda (1576-1577)\\nMaharana Pratap reorganized his forces and attacked the Mughal commander in Udaipur.\\nThe battle was fought around Gogunda.\\nIt was not a major victory but it showcased Maharana Pratapâ€™s determination to fight against the Mughal dominance.\\nBattle of Rakhtalai (1587)\\nRana Pratap confronted the joint forces of the Mughals and the Amber kingdom.\\nThe joint force was led by Akbar and Man Singh I.\\nMaharana Pratap managed to escape defeat in this battle and the conflict remained unsettled.\\nMaharana Pratapâ€™s Horse â€“ Chetak\\nChetak was Maharana Pratapâ€™s favorite horse. He was loyal and brave and had seen so many battles with Ranapratap.\\n\\nChetak was a loyal horse who played a major role in Rana Pratapâ€™s life.\\nChetak confront the Mughals in the Battle of Haldighati with Ranapratap.\\nIn the battle, Chetak fought alongside Maharana Pratap.\\nHe demonstrated extraordinary courage and set an example of loyalty.\\nDuring the battle, Chetak was seriously wounded.\\nMaharana Pratap was deeply sad by the loss of his loyal companion.\\nHe built a monument in Chetakâ€™s honor, known as 'Chetak Samadhi' present in Haldighati.\\nDeath of Maharana Pratap\\nRana Pratap faced many challenges after the Battle of Haldighati. He was in exile from his kingdom and lived in the rugged Aravalli Hills. He continued his struggle against the Mughals and refused to surrender his principles. Maharana Pratap died on 19th January 1597 at the age of 56. His eldest son Amar Singh I beacame the new king.\\n\\nWhile other Rajput clans accepted the supremacy of the Mughal Empire, he was the only person who stood alone against the Akbar, for this Maharana Pratap was so powerful.\\n\\nAmar Singh, Shakti Singh, Kunwar Vijay Singh, Kunwar Pratap Singh were the Maharana Pratapâ€™s son.\\n\\nBattle of Haldighati was the last war of Maharana Pratap.\\n\\nMaharana Pratap died in Chavand, Mewar, which is located in present-day Rajasthan, India.\\n\\nThe first love of Maharana Pratap was a woman named Ajabde Punwar. She was the daughter of the royal chieftain of a nearby kingdom. Maharana Pratap and Ajabde were childhood friends and eventually fell in love. They got married, and Ajabde became his first queen and the mother of his children. Their love story is well-known and is often romanticized in Rajput folklore and history.\")]"
      ]
     },
     "execution_count": 2,
     "metadata": {},
     "output_type": "execute_result"
    }
   ],
   "source": [
    "## Import text loader \n",
    "from langchain_community.document_loaders import TextLoader\n",
    "\n",
    "loader = TextLoader('docs\\Maharana_PratapJi.txt')\n",
    "\n",
    "text = loader.load()\n",
    "\n",
    "text"
   ]
  },
  {
   "cell_type": "code",
   "execution_count": 3,
   "metadata": {},
   "outputs": [
    {
     "data": {
      "text/plain": [
       "[Document(metadata={'source': 'docs\\\\Maharana_PratapJi.txt'}, page_content='Source : https://www.geeksforgeeks.org/maharana-pratap-biography/\\n\\n\\nMaharana Pratap was a brave Rajput king in India who stood up against the powerful Mughal Empire. He is famous for his courage and refusal to surrender, making him a symbol of resistance and pride for many.\\n\\nMaharana Pratap was a Hindu Rajput king who ruled the Mewar region for 35 years. He was the 13th Maharana of Mewar and a member of the Sisodia dynasty.'),\n",
       " Document(metadata={'source': 'docs\\\\Maharana_PratapJi.txt'}, page_content='In this article, we have covered the complete Maharana Pratap Biography, Why he is Famous, His Family tree, How did he died. His battles and many more in Detail.\\n\\nLetâ€™s dive right in.\\n\\nMaharana Pratap Life Overview\\nThe following is the Life Overview of Maharana Pratap:'),\n",
       " Document(metadata={'source': 'docs\\\\Maharana_PratapJi.txt'}, page_content='Aspect\\t-->  Details\\nFull Name\\t--> Maharana Pratap Singh\\nBirth Date\\t--> May 9, 1540\\nBirthplace\\t--> Kumbhalgarh, Mewar (present-day Rajasthan)\\nReign\\t-->   1572â€“1597(25 years)\\nDynasty\\t--> Sisodia Rajput\\nFather\\t--> Maharana Udai Singh II\\nMother\\t--> Rani Jeevant Kanwa\\nSpouse  --> Maharani Ajabde Punwar\\nCapital\\t--> Chittorgarh\\nBattles\\t--> Battle of Haldighati (famous) and many more\\nKnown For\\t--> Resisting Mughal Emperor Akbarâ€™s rule\\nLegacy\\t--> Icon of Rajput valor and resistance'),\n",
       " Document(metadata={'source': 'docs\\\\Maharana_PratapJi.txt'}, page_content='Legacy\\t--> Icon of Rajput valor and resistance\\nDeath Date\\t--> January 29, 1597\\nDeath Place\\t--> Chavand, Mewar (present-day Rajasthan)\\nSignificant Events\\t--> Refusal to accept Mughal suzerainty, battles\\nContributions\\t--> Defending Mewar from Mughal expansion'),\n",
       " Document(metadata={'source': 'docs\\\\Maharana_PratapJi.txt'}, page_content='Maharana Pratap History\\nMaharana Pratap was originally born as Pratap Singh. He was the elder son of Udai Singh II and Jaiwanta Bai. Rana Pratapâ€™s father Udai Singh II was the founder of Udaipur.\\n\\nMaharana Pratap was born on 9th May 1540 in a Hindu Rajput family who ruled the Mewar region for 35 years. In 1572, after the death of his father, he took over the throne at the age of 32 on 1st March 1572. From that time Pratap Singh became famous as Maharana Pratap.')]"
      ]
     },
     "execution_count": 3,
     "metadata": {},
     "output_type": "execute_result"
    }
   ],
   "source": [
    "## RecursiveCharacterTextSplitter will split test into small chunks due to llm has less context size.\n",
    "\n",
    "from langchain_text_splitters import RecursiveCharacterTextSplitter\n",
    "\n",
    "text_splitter = RecursiveCharacterTextSplitter( chunk_size=512,chunk_overlap=50)\n",
    "chunk_text = text_splitter.split_documents(text)\n",
    "chunk_text[:5]"
   ]
  },
  {
   "cell_type": "code",
   "execution_count": 4,
   "metadata": {},
   "outputs": [
    {
     "data": {
      "text/plain": [
       "33"
      ]
     },
     "execution_count": 4,
     "metadata": {},
     "output_type": "execute_result"
    }
   ],
   "source": [
    "len(chunk_text)"
   ]
  },
  {
   "cell_type": "code",
   "execution_count": 5,
   "metadata": {},
   "outputs": [],
   "source": [
    "## we have chunks, we need to ADD those chunct into vector database so we need to have vector embedding first then we can insert the record into cromadb.\n",
    "\n",
    "if not os.getenv(\"COHERE_API_KEY\"):\n",
    "    os.environ[\"COHERE_API_KEY\"] = getpass.getpass()"
   ]
  },
  {
   "cell_type": "code",
   "execution_count": 6,
   "metadata": {},
   "outputs": [
    {
     "name": "stdout",
     "output_type": "stream",
     "text": [
      "sagemaker.config INFO - Not applying SDK defaults from location: C:\\ProgramData\\sagemaker\\sagemaker\\config.yaml\n",
      "sagemaker.config INFO - Not applying SDK defaults from location: C:\\Users\\GAURAV\\AppData\\Local\\sagemaker\\sagemaker\\config.yaml\n"
     ]
    }
   ],
   "source": [
    "from langchain_cohere import CohereEmbeddings\n",
    "\n",
    "embeddings = CohereEmbeddings(\n",
    "    model=\"embed-english-v3.0\",\n",
    ")"
   ]
  },
  {
   "cell_type": "code",
   "execution_count": 7,
   "metadata": {},
   "outputs": [],
   "source": [
    "from langchain_chroma import Chroma\n",
    "\n",
    "vector_store = Chroma(\n",
    "    collection_name=\"FirstCromaCollection\",\n",
    "    embedding_function=embeddings,\n",
    "    persist_directory=\"./chroma_langchain_db\",  # Where to save data locally, remove if not necessary\n",
    ")"
   ]
  },
  {
   "cell_type": "code",
   "execution_count": 8,
   "metadata": {},
   "outputs": [
    {
     "data": {
      "text/plain": [
       "['ad20c321-8042-41d9-8328-da4817f60a22',\n",
       " '3e2a0deb-5658-409d-860b-0b59d6c37fa9',\n",
       " '3f68bd2b-1bd1-4d27-bec3-b4d2fab24d0c',\n",
       " '06e5b006-c409-4fde-99fa-035fe6827e10',\n",
       " '3a981f05-3f79-4627-a931-4398d9a1e3b5',\n",
       " '8c725279-866d-4b3f-8c45-afb7af21d2c4',\n",
       " 'b2ca4bef-b360-42e0-8552-f9db5775c854',\n",
       " '47308312-9171-4ebc-a566-203a3f0e2d83',\n",
       " '537e269f-1597-4fc5-8ef3-f61a313a788c',\n",
       " '4d8977ac-620c-4d56-bfbc-15c9c520690b',\n",
       " '05124a24-c366-4371-a125-e8fbd4f3cdc9',\n",
       " '4bee9a7b-27f4-425d-af55-872bf815bb63',\n",
       " '4196fb37-6aa7-44a2-afa9-6954e032f2c8',\n",
       " 'ccea8ae8-b7d8-4079-a671-a545104ff1b5',\n",
       " '2c100c2c-b12c-46fc-9b5e-081072875b91',\n",
       " 'ecaa935a-8825-4641-a6a7-195ae73e3657',\n",
       " 'a62ecc45-a76b-46a5-95e9-1388fd7a5602',\n",
       " 'c273b5c1-62ca-40c0-ad68-1d9f41036cc1',\n",
       " 'f7271758-b81f-4866-8ffe-c91bb1728a69',\n",
       " '53114caa-fa10-49da-8d63-77ee6301fcbe',\n",
       " '3f3e562c-96db-447a-9b13-751e94fbde97',\n",
       " '776a333c-8134-41ec-8800-63e4ec00a41a',\n",
       " 'c2a3cee9-5905-45ad-8ee5-8db8dc18653c',\n",
       " 'cc7ad6ac-c04b-447a-9596-1add8ce6ad98',\n",
       " '0baf4457-1054-4415-9c9e-58fe82efb679',\n",
       " '313be3ab-54ee-47a9-aa0c-9847dadb7e2e',\n",
       " '5fa886b5-397f-402b-8136-5910395de97e',\n",
       " '984964e5-9253-4cb1-9c97-3d716e5db60d',\n",
       " 'e5bbc721-b77f-4bf4-ad5f-50b42fbc2445',\n",
       " '9ab23765-d0dc-44a5-b606-13104719823b',\n",
       " '1ab361e6-26e1-4967-9caa-95c399b4174d',\n",
       " '5c533f38-1b1a-43cc-87d3-9bfa7a6011d2',\n",
       " 'ec93ff9e-dd12-401c-9710-2273d3e7b81d']"
      ]
     },
     "execution_count": 8,
     "metadata": {},
     "output_type": "execute_result"
    }
   ],
   "source": [
    "from uuid import uuid4\n",
    "\n",
    "uuids = [str(uuid4()) for _ in range(len(chunk_text))]\n",
    "\n",
    "vector_store.add_documents(documents=chunk_text, ids=uuids)\n",
    "\n"
   ]
  },
  {
   "cell_type": "code",
   "execution_count": 9,
   "metadata": {},
   "outputs": [
    {
     "name": "stdout",
     "output_type": "stream",
     "text": [
      "* While other Rajput clans accepted the supremacy of the Mughal Empire, he was the only person who stood alone against the Akbar, for this Maharana Pratap was so powerful.\n",
      "\n",
      "Amar Singh, Shakti Singh, Kunwar Vijay Singh, Kunwar Pratap Singh were the Maharana Pratapâ€™s son.\n",
      "\n",
      "Battle of Haldighati was the last war of Maharana Pratap.\n",
      "\n",
      "Maharana Pratap died in Chavand, Mewar, which is located in present-day Rajasthan, India. [{'source': 'docs\\\\Maharana_PratapJi.txt'}]\n",
      "* Death of Maharana Pratap\n",
      "Rana Pratap faced many challenges after the Battle of Haldighati. He was in exile from his kingdom and lived in the rugged Aravalli Hills. He continued his struggle against the Mughals and refused to surrender his principles. Maharana Pratap died on 19th January 1597 at the age of 56. His eldest son Amar Singh I beacame the new king. [{'source': 'docs\\\\Maharana_PratapJi.txt'}]\n"
     ]
    }
   ],
   "source": [
    "results = vector_store.similarity_search(\n",
    "    \"What was the last war of Maharana Pratap?\",\n",
    "    k=2\n",
    ")\n",
    "for res in results:\n",
    "    print(f\"* {res.page_content} [{res.metadata}]\")"
   ]
  },
  {
   "cell_type": "code",
   "execution_count": 10,
   "metadata": {},
   "outputs": [
    {
     "data": {
      "text/plain": [
       "'While other Rajput clans accepted the supremacy of the Mughal Empire, he was the only person who stood alone against the Akbar, for this Maharana Pratap was so powerful.\\n\\nAmar Singh, Shakti Singh, Kunwar Vijay Singh, Kunwar Pratap Singh were the Maharana Pratapâ€™s son.\\n\\nBattle of Haldighati was the last war of Maharana Pratap.\\n\\nMaharana Pratap died in Chavand, Mewar, which is located in present-day Rajasthan, India.'"
      ]
     },
     "execution_count": 10,
     "metadata": {},
     "output_type": "execute_result"
    }
   ],
   "source": [
    "## added an example of vector store\n",
    "\n",
    "from langchain_core.vectorstores import InMemoryVectorStore\n",
    "\n",
    "\n",
    "vectorstore = InMemoryVectorStore.from_documents(\n",
    "    chunk_text,\n",
    "    embedding=embeddings,\n",
    ")\n",
    "\n",
    "# Use the vectorstore as a retriever\n",
    "retriever = vectorstore.as_retriever()\n",
    "\n",
    "# Retrieve the most similar text\n",
    "retrieved_documents = retriever.invoke(\"What was the last war of Maharana Pratap?\")\n",
    "\n",
    "# show the retrieved document's content\n",
    "retrieved_documents[0].page_content"
   ]
  }
 ],
 "metadata": {
  "kernelspec": {
   "display_name": "langenv",
   "language": "python",
   "name": "python3"
  },
  "language_info": {
   "codemirror_mode": {
    "name": "ipython",
    "version": 3
   },
   "file_extension": ".py",
   "mimetype": "text/x-python",
   "name": "python",
   "nbconvert_exporter": "python",
   "pygments_lexer": "ipython3",
   "version": "3.10.6"
  }
 },
 "nbformat": 4,
 "nbformat_minor": 2
}
