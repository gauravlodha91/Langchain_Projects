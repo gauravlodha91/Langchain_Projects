{
 "cells": [
  {
   "cell_type": "markdown",
   "metadata": {},
   "source": [
    "## Simple RAG Pipeline for Text Editor"
   ]
  },
  {
   "cell_type": "code",
   "execution_count": 1,
   "metadata": {},
   "outputs": [
    {
     "data": {
      "text/plain": [
       "True"
      ]
     },
     "execution_count": 1,
     "metadata": {},
     "output_type": "execute_result"
    }
   ],
   "source": [
    "\n",
    "import os\n",
    "from dotenv import load_dotenv\n",
    "load_dotenv()"
   ]
  },
  {
   "cell_type": "code",
   "execution_count": 2,
   "metadata": {},
   "outputs": [
    {
     "data": {
      "text/plain": [
       "[Document(metadata={'source': 'docs\\\\AI.txt'}, page_content='What is AI transformation?\\nAI transformation is a strategic initiative whereby a business adopts and integrates artificial intelligence (AI) into its operations, products and services to drive innovation, efficiency and growth. AI transformation optimizes organizational workflows by using a range of AI models and other technologies to create a continuously evolving and agile business.\\n\\nAI transformations employ machine learning and deep learning modelsfor example, computer vision, natural language processing (NLP), and generative AItogether with other technologies to create systems that can:\\n\\nAutomate manual tasks and repetitive administrative work.\\nModernize apps and IT with code generation.\\nProvide data-driven insights and decision-making support by using advanced analytics.\\n\"Learn\" from data to improve accuracy and performance over time.\\nImprove the customer experience with personalization and chatbots.\\nAs advancements in AI accelerate, AI transformation has become a significant factor in a business long-term success. According to \"Augmented work for an automated, AI-driven world\", a recent report from the IBM Institute for Business Value, organizations that integrate AI into their transformation journey more frequently outperform their competitors.\\n\\nTypically, an AI transformation is a more holistic endeavor than the simple replication of existing business processes with new technologies. A well-crafted AI transformation strategy has the capacity to create entirely new ways of doing business, increase productivity and facilitate sustainable growth. To realize and scale the technology, AI transformations often require businesses to change their strategies and cultures. \\n\\n \\n\\nReport\\nDiscover how to choose the right AI foundation model\\nGet the report \\nRelated content\\nSubscribe to the Think Newsletter\\n\\nTechnologies in AI transformation\\nAn AI transformation strategy can involve any number of technologies, often requiring a broad toolkit of solutions. The specific AI tools deployed often depend on an organization\\'s targeted business goals. Some of the most common technologies used in an AI transformation include:\\n\\nNatural language processing\\nNLP enables computers to process human language in text or audio form. It can be used to facilitate intelligent search, analyze consumer sentiment on social media, convert material from one language to another, summarize content, or extract relevant information from large data sets.\\n\\nComputer vision\\nWith computer vision, systems can glean meaningful information from digital images or videos by using algorithms and other technologies. Applications include image classification, image-based search and object detection and search. Examples of using computer vision include identifying machinery that requires maintenance or automatically tagging images with relevant metadata.\\n\\nOCR and digitization\\nOptical character recognition (OCR) recognizes printed or handwritten texts and converts them into a machine-readable format. OCR is widely used in digitization efforts to make unwieldy document collections simpler to edit, store, and search. OCR-converted data sets can support training and tuning AI models.\\n\\nIoT integrations\\nIoT integrations include geolocation, which identifies the longitudinal and latitudinal location of a connected device. Geolocation supports location-specific customer interactions like zone-based pricing or targeted marketing. In an operational capacity, it can facilitate AI-assisted route planning or supply chain optimization by tracking assets and goods that are outfitted with sensors and connected to the Internet-of-Things (IoT).\\n\\nAutomation\\nThrough automation, machines perform repetitive tasks and processes with little to no human input. Intelligent automation, or AI-assisted automation, has a wide variety of uses in a business context, including AIOps and complex business process management.\\n\\nExpert systems and decision support\\nA decision support system helps decision-makers solve unstructured problems, while an expert system solves a particular and often difficult problem. Both provide organizations with rapid, data-driven insights based on large datasets that are difficult for a single person to absorb.  \\n\\nGenerative AI\\nGenerative AI is a set of AI technologies that create original contentsuch as text, images, video, audio or software codein response to a users prompt or request. Gen AI relies on deep learning models that simulate the human brain. In consumer-facing applications, generative AI can create personalized content in real-time. Back-office uses include employee-facing AI assistants, code-generation software and product development and testing.\\n\\nBig data analytics\\nBig data analytics uses large amounts of data, requiring advanced analysis techniques, such as machine learning and data mining, to extract meaningful information and value. Big data is used to train AI models, and is typically processed in a data lakehouse, where it is collected, cleaned and analyzed. \\n\\nHow to develop a targeted AI strategy \\nOrganizations that embrace an AI-first mentality, rather than digitizing their business process, stand to gain a significant competitive advantage in the rapidly changing business ecosystem. And while no single standard playbook for an AI journey exists, common considerations during the early planning stages of an AI transformation include:\\n\\nStrategy and value: What are the use cases and objectives for an AI transformation? Which workflows are augmented, and what are the internal metrics for success?\\nTechnology and data: Which models, data and deployment strategies are best suited to the organizations strategy?\\nExperience design: How will users, both internal and external, interact with AI?\\nOperating models: How will an organization scale new technologies across their business?\\nTalent and culture: How will an organization embrace a culture of AI through its training, upskilling and hiring?\\nStages of AI transformation\\nAI transformation is a dynamic process. AI use cases and implementations look different for every company. But before an organization trains and deploys an AI, it typically follows the following planning processes to help ensure the effectiveness of its strategy:\\n\\nInformation gathering: During this stage, an organization performs research to gain an understanding of such tools as generative AI, machine leaning, computer vision and other technologies. During this exploratory phase, stakeholders might list business problems AI can address and outline what benefits might be gained. \\n\\nAssessing current resources and limitations: Before making a comprehensive plan, an organization typically audits its existing business, reviewing the capacity of its IT department and data practices. \\n\\nDefining objectives: During this phase, the organization identifies which specific problems it hopes to solve, and how success will be measured during implementation. \\n\\nBuilding a roadmap: In creating a roadmap, the organization chooses AI projects based on practical needs, determining what kind of support might be requiredand which partners or vendors with AI-specific expertise should be involved. \\n\\nOnce these strategic planning phases have been completed, the designing, building, training, validating and tuning of an AI model can begin. Some stages that facilitate a responsible and effective AI deployment include: \\n\\nCollecting and managing data.\\nOrganizing data.\\nBuilding, training and tuning AI models.\\nAutomating workflows and adding AI to applications.\\nInfusing AI across an enterprise.\\nCollecting and managing data\\nThe first phase of AI transformation identifies and harnesses the raw data that is used to train and tune an AI. It also involves determining what third-party data might be used. Often, organizations are limited by rigid architectures and data silos that require a foundational reorganization.\\n\\nThis process might include pulling data from various departments and subdivisions, digitizing existing records or implementing a more robust data management system. As this process requires fluency with data science, it might require hiring specialists or upskilling in-house employees.\\n\\nOrganizing data\\nData quality and strong data governance practices are the backbone of a successful AI transformation. During this process, an organization helps ensure the accuracy and cleanliness of its data pipeline along with its findability and governing rules. This might involve automating select workflows with DataOps tools, optimizing data warehouses and infrastructure, and investing in data management solutions such as a data lakehouse.\\n\\nDuring the organizational phase, business leaders also determine who owns the data, the data security measures in place, and the conditions for using the data. This process creates a self-service pipeline making data accessible to the right people at the right time.\\n\\nBuilding, training and tuning AI models\\nUsing this clean and organized data, a business can build, train, validate and tune its AI models. With sufficient internal AI engineering talent, this process can be completed in-house. Many organizations opt to collaborate with third-party vendors with a track record of success.\\n\\nDuring this phase, AI models learn from large data sets and are fine-tuned on smaller, task-specific data sets. After this initial development and testing period, validation and testing workflows are ongoing, facilitating consistency as the model continues to learn.\\n\\nAutomating workflows and adding AI to applications\\nWhen the AI is ready, its integrated into previously identified workflows and applications across an enterprise. Typically, AI is used with other technologies and techniques, and deploying AI involves collaboration between IT, engineering and infrastructure teams along with other stakeholders. As AI augments routine business processes and becomes part of a business day-to-day operations, a strong change management strategy might be necessary as roles shift across an organization.\\n\\nInfusing AI across an enterprise\\nWith the foundation of a strong automation and intelligent application practice, organizations can build AI more deeply into their business and transform how the company works. As employees expense less time on routine tasks, organization-wide changes might be required to encourage more creative and valuable labor from human partners. And at this level, more complex workflows can be entirely replaced by a combination of AI-powered tools.\\n\\nThe AI transformation might also include AI-assisted analysis of enterprise-level business practices, for example through delivering insights about consumer behavior or advanced forecasting. With AI fully baked into the business, an organization can also automate the AI lifecycle, increasing the speed of experimentation and building purpose-specific models faster.\\n\\nAI transformation use cases\\nAn AI transformation can improve performance across every aspect of a business. Adoption allows organizations to automate administrative tasks, facilitate hyperpersonalized customer experiences and modernize the IT process by automatically generating code.\\n\\nSome use case examples include: \\n\\nIT modernization\\nCustomer service workflow\\nSupply chain\\nHR and talent management \\nSales and marketing \\nCore business operations \\nIT modernization\\nAI models have a vast number of applications in IT processes and operations. AI can rapidly increase IT agility and address complex processes such as app modernization and platform engineering.\\n\\nFor example, generative AI can generate code, convert code from one language to another, reverse-engineer code, and drive transformation planning.\\n\\nThese tools can also provide augmented site reliability engineering for developers and automate testing processesultimately streamlining the IT process and allowing employees to focus on more creative and human-centric tasks.\\n\\nRead more about AI in app modernization \\nCustomer service workflows\\nGenerative AI can transform the way customer experience is delivered, differentiating a business and giving it a competitive edge. AI tools can present customized recommendations, handle customer support at any hour of the day, and seamlessly create personalized content such as social media posts, personalized messages or website copy.\\n\\nBy analyzing large volumes of data and analyzing sentiment, AI can identify patterns to make predictions about consumer behavior in the future. For example, a bank might provide personalized, automated portfolio management services, or a government might automatically convert correspondences into multiple languages.  \\n\\nRead more about AI in customer service \\nSupply chain\\nUsing AI, businesses can automate the source-to-pay process and manage resource needs, reducing inefficiency and waste. For example, AI tools can triage deliveries, selecting the most cost-effective and environmentally sustainable ways to fulfill orders, or analyze historical data to predict demand.\\n\\nAI-driven order intelligence systems have the capacity to provide rapid insights into order management workflows, allowing business leaders to identify potential disruptions or identify problems before they arise. When combined with digital twins that replicate real-world processes or pieces of equipment, AI can optimize processes like maintenance and scheduling for increased efficiency.\\n\\nRead more about generative AI in supply chains \\nHR and talent management \\nAI capabilities can increase efficiency and employee experience across the HR lifecycle, from improving the candidate experience to providing personalized high-quality career development advice. Using AI, businesses can automate repetitive but critical talent acquisition tasks such as job postings and interview scheduling. For current employees, AI can offer personalized feedback like performance reviews or manage requests for time off through chatbots, allowing HR leaders to focus on higher-value work.')]"
      ]
     },
     "execution_count": 2,
     "metadata": {},
     "output_type": "execute_result"
    }
   ],
   "source": [
    "## Import text loader \n",
    "from langchain_community.document_loaders import TextLoader\n",
    "\n",
    "loader = TextLoader('docs\\AI.txt')\n",
    "\n",
    "text = loader.load()\n",
    "\n",
    "text"
   ]
  },
  {
   "cell_type": "code",
   "execution_count": 3,
   "metadata": {},
   "outputs": [
    {
     "data": {
      "text/plain": [
       "[Document(metadata={'source': 'docs\\\\AI.txt'}, page_content='What is AI transformation?\\nAI transformation is a strategic initiative whereby a business adopts and integrates artificial intelligence (AI) into its operations, products and services to drive innovation, efficiency and growth. AI transformation optimizes organizational workflows by using a range of AI models and other technologies to create a continuously evolving and agile business.'),\n",
       " Document(metadata={'source': 'docs\\\\AI.txt'}, page_content='AI transformations employ machine learning and deep learning modelsfor example, computer vision, natural language processing (NLP), and generative AItogether with other technologies to create systems that can:'),\n",
       " Document(metadata={'source': 'docs\\\\AI.txt'}, page_content='Automate manual tasks and repetitive administrative work.\\nModernize apps and IT with code generation.\\nProvide data-driven insights and decision-making support by using advanced analytics.\\n\"Learn\" from data to improve accuracy and performance over time.\\nImprove the customer experience with personalization and chatbots.'),\n",
       " Document(metadata={'source': 'docs\\\\AI.txt'}, page_content='As advancements in AI accelerate, AI transformation has become a significant factor in a business long-term success. According to \"Augmented work for an automated, AI-driven world\", a recent report from the IBM Institute for Business Value, organizations that integrate AI into their transformation journey more frequently outperform their competitors.'),\n",
       " Document(metadata={'source': 'docs\\\\AI.txt'}, page_content='Typically, an AI transformation is a more holistic endeavor than the simple replication of existing business processes with new technologies. A well-crafted AI transformation strategy has the capacity to create entirely new ways of doing business, increase productivity and facilitate sustainable growth. To realize and scale the technology, AI transformations often require businesses to change their strategies and cultures.')]"
      ]
     },
     "execution_count": 3,
     "metadata": {},
     "output_type": "execute_result"
    }
   ],
   "source": [
    "## RecursiveCharacterTextSplitter will split test into small chunks due to llm has less context size.\n",
    "\n",
    "from langchain_text_splitters import RecursiveCharacterTextSplitter\n",
    "\n",
    "text_splitter = RecursiveCharacterTextSplitter( chunk_size=512,chunk_overlap=50)\n",
    "chunk_text = text_splitter.split_documents(text)\n",
    "chunk_text[:5]"
   ]
  },
  {
   "cell_type": "code",
   "execution_count": 4,
   "metadata": {},
   "outputs": [
    {
     "data": {
      "text/plain": [
       "39"
      ]
     },
     "execution_count": 4,
     "metadata": {},
     "output_type": "execute_result"
    }
   ],
   "source": [
    "len(chunk_text)"
   ]
  },
  {
   "cell_type": "code",
   "execution_count": 5,
   "metadata": {},
   "outputs": [],
   "source": [
    "## we have chunks, we need to ADD those chunct into vector database so we need to have vector embedding first then we can insert the record into cromadb.\n",
    "\n",
    "if not os.getenv(\"COHERE_API_KEY\"):\n",
    "    os.environ[\"COHERE_API_KEY\"] = getpass.getpass()"
   ]
  },
  {
   "cell_type": "code",
   "execution_count": 6,
   "metadata": {},
   "outputs": [
    {
     "name": "stdout",
     "output_type": "stream",
     "text": [
      "sagemaker.config INFO - Not applying SDK defaults from location: C:\\ProgramData\\sagemaker\\sagemaker\\config.yaml\n",
      "sagemaker.config INFO - Not applying SDK defaults from location: C:\\Users\\GAURAV\\AppData\\Local\\sagemaker\\sagemaker\\config.yaml\n"
     ]
    }
   ],
   "source": [
    "from langchain_cohere import CohereEmbeddings\n",
    "\n",
    "embeddings = CohereEmbeddings(\n",
    "    model=\"embed-english-v3.0\",\n",
    ")"
   ]
  },
  {
   "cell_type": "code",
   "execution_count": 7,
   "metadata": {},
   "outputs": [],
   "source": [
    "from langchain_chroma import Chroma\n",
    "\n",
    "vector_store = Chroma(\n",
    "    collection_name=\"FirstCromaCollection\",\n",
    "    embedding_function=embeddings,\n",
    "    persist_directory=\"./chroma_langchain_db\",  # Where to save data locally, remove if not necessary\n",
    ")"
   ]
  },
  {
   "cell_type": "code",
   "execution_count": 8,
   "metadata": {},
   "outputs": [
    {
     "data": {
      "text/plain": [
       "['14e7c1dd-0c63-40a7-b037-5f0d68520dfe',\n",
       " 'bb316cf6-b22f-410e-87cd-403ab57ca9c1',\n",
       " '2a178f72-1f08-4604-b425-23a6691b69dc',\n",
       " 'f264fc4f-6ae6-4268-91c9-23987dee6fe2',\n",
       " '2b82dfc1-37bd-4d32-a5e7-ef531967dbeb',\n",
       " 'd2840407-80ff-4040-a14d-7048503692f1',\n",
       " 'ddbaecb6-7076-4c87-b98b-686d20665898',\n",
       " '3b40a7cd-dc00-45bd-add9-6a1525513397',\n",
       " '17a16382-ac40-4ee1-adc5-173652f9b677',\n",
       " 'b64d7621-ebdc-42a0-8f33-360edfa4ed50',\n",
       " 'e24ef55b-9410-4197-a721-322cfd990c6e',\n",
       " '7ac97b9e-c9af-43e9-a93d-5e0be8c15c92',\n",
       " 'e83f1bea-5b91-4c01-8c77-0d3b8a40c463',\n",
       " 'ca9a9be5-9609-4006-81be-da38589ae842',\n",
       " '4cf66e67-278c-4c79-9243-f29773d9b045',\n",
       " '4bf22f3b-db7b-4b15-806c-b50c932c3bef',\n",
       " 'a4768edb-bd44-4b86-86ee-61f0d57d1bb8',\n",
       " '978d1b1c-43dc-4b69-8f61-455081e40c53',\n",
       " '62a7e5c4-fcaa-4bb9-a115-afe72099abc3',\n",
       " '20a32819-364d-4806-80db-1574c3d0f33a',\n",
       " '40662cd0-6c27-4f11-b909-95b581c184be',\n",
       " 'c67e003a-5f01-4f20-960d-8f3ca5fd24a3',\n",
       " '17733433-34dd-471c-a76f-80f58805ff61',\n",
       " 'e59d9c53-42db-4bb7-a968-6500c23d8b0c',\n",
       " 'e26a464c-ec3a-440b-a823-052e4a3c8222',\n",
       " 'dbf1e960-fbd8-44b5-a5bd-3cd50c9e00e4',\n",
       " 'dc472314-8067-4a6b-8160-e345926b9f99',\n",
       " '40dd0bba-6bfc-44a0-bad4-8d3f0fba9015',\n",
       " '318337b4-e529-406f-b4ee-327c4b18715a',\n",
       " 'c983b864-cb53-4197-8730-3c7be1eebfcc',\n",
       " '583638e0-c204-4cad-802d-fcda9c9780d3',\n",
       " 'cd9d2cb4-5ce3-4152-8756-46f115a9a08c',\n",
       " 'bcbf5617-6069-454b-ba65-612ae8b5f288',\n",
       " 'cb7a2671-7fe8-413f-811e-ecdf24e67eb5',\n",
       " 'ec55e5d9-3558-4a18-8a73-ed957470f2b8',\n",
       " 'a1eb6584-b9b4-474c-9374-fcf1f7ace134',\n",
       " 'c51cba12-f372-4c88-99fd-75a8719c2435',\n",
       " 'e73cf206-9d44-49aa-a438-8f586802a71f',\n",
       " '04319ab7-f134-46f6-846c-607d80c74c3c']"
      ]
     },
     "execution_count": 8,
     "metadata": {},
     "output_type": "execute_result"
    }
   ],
   "source": [
    "from uuid import uuid4\n",
    "\n",
    "uuids = [str(uuid4()) for _ in range(len(chunk_text))]\n",
    "\n",
    "vector_store.add_documents(documents=chunk_text, ids=uuids)\n",
    "\n"
   ]
  },
  {
   "cell_type": "code",
   "execution_count": 9,
   "metadata": {},
   "outputs": [
    {
     "name": "stdout",
     "output_type": "stream",
     "text": [
      "* What is AI transformation?\n",
      "AI transformation is a strategic initiative whereby a business adopts and integrates artificial intelligence (AI) into its operations, products and services to drive innovation, efficiency and growth. AI transformation optimizes organizational workflows by using a range of AI models and other technologies to create a continuously evolving and agile business. [{'source': 'docs\\\\AI.txt'}]\n",
      "* Typically, an AI transformation is a more holistic endeavor than the simple replication of existing business processes with new technologies. A well-crafted AI transformation strategy has the capacity to create entirely new ways of doing business, increase productivity and facilitate sustainable growth. To realize and scale the technology, AI transformations often require businesses to change their strategies and cultures. [{'source': 'docs\\\\AI.txt'}]\n"
     ]
    }
   ],
   "source": [
    "results = vector_store.similarity_search(\n",
    "    \"What is AI transformation?\",\n",
    "    k=2\n",
    ")\n",
    "for res in results:\n",
    "    print(f\"* {res.page_content} [{res.metadata}]\")"
   ]
  },
  {
   "cell_type": "code",
   "execution_count": 10,
   "metadata": {},
   "outputs": [
    {
     "data": {
      "text/plain": [
       "'What is AI transformation?\\nAI transformation is a strategic initiative whereby a business adopts and integrates artificial intelligence (AI) into its operations, products and services to drive innovation, efficiency and growth. AI transformation optimizes organizational workflows by using a range of AI models and other technologies to create a continuously evolving and agile business.'"
      ]
     },
     "execution_count": 10,
     "metadata": {},
     "output_type": "execute_result"
    }
   ],
   "source": [
    "## added an example of vector store\n",
    "\n",
    "from langchain_core.vectorstores import InMemoryVectorStore\n",
    "\n",
    "\n",
    "vectorstore = InMemoryVectorStore.from_documents(\n",
    "    chunk_text,\n",
    "    embedding=embeddings,\n",
    ")\n",
    "\n",
    "# Use the vectorstore as a retriever\n",
    "retriever = vectorstore.as_retriever()\n",
    "\n",
    "# Retrieve the most similar text\n",
    "retrieved_documents = retriever.invoke(\"What is AI transformation?\")\n",
    "\n",
    "# show the retrieved document's content\n",
    "retrieved_documents[0].page_content"
   ]
  }
 ],
 "metadata": {
  "kernelspec": {
   "display_name": "langenv",
   "language": "python",
   "name": "python3"
  },
  "language_info": {
   "codemirror_mode": {
    "name": "ipython",
    "version": 3
   },
   "file_extension": ".py",
   "mimetype": "text/x-python",
   "name": "python",
   "nbconvert_exporter": "python",
   "pygments_lexer": "ipython3",
   "version": "3.10.6"
  }
 },
 "nbformat": 4,
 "nbformat_minor": 2
}
