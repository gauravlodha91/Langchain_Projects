{
 "cells": [
  {
   "cell_type": "markdown",
   "metadata": {},
   "source": [
    "# Simple RAG Pipeline"
   ]
  },
  {
   "cell_type": "markdown",
   "metadata": {},
   "source": [
    "## Loaders"
   ]
  },
  {
   "cell_type": "markdown",
   "metadata": {},
   "source": [
    "### Text Loader"
   ]
  },
  {
   "cell_type": "code",
   "execution_count": 1,
   "metadata": {},
   "outputs": [
    {
     "data": {
      "text/plain": [
       "True"
      ]
     },
     "execution_count": 1,
     "metadata": {},
     "output_type": "execute_result"
    }
   ],
   "source": [
    "## Import getpass to create propmt to add env variables\n",
    "\n",
    "import getpass\n",
    "import os\n",
    "from dotenv import load_dotenv\n",
    "load_dotenv()"
   ]
  },
  {
   "cell_type": "code",
   "execution_count": 2,
   "metadata": {},
   "outputs": [
    {
     "data": {
      "text/plain": [
       "[Document(metadata={'source': 'docs\\\\Maharana_PratapJi.txt'}, page_content=\"Source : https://www.geeksforgeeks.org/maharana-pratap-biography/\\n\\n\\nMaharana Pratap was a brave Rajput king in India who stood up against the powerful Mughal Empire. He is famous for his courage and refusal to surrender, making him a symbol of resistance and pride for many.\\n\\nMaharana Pratap was a Hindu Rajput king who ruled the Mewar region for 35 years. He was the 13th Maharana of Mewar and a member of the Sisodia dynasty.\\n\\nIn this article, we have covered the complete Maharana Pratap Biography, Why he is Famous, His Family tree, How did he died. His battles and many more in Detail.\\n\\nLetâ€™s dive right in.\\n\\nMaharana Pratap Life Overview\\nThe following is the Life Overview of Maharana Pratap:\\n\\nAspect\\t-->  Details\\nFull Name\\t--> Maharana Pratap Singh\\nBirth Date\\t--> May 9, 1540\\nBirthplace\\t--> Kumbhalgarh, Mewar (present-day Rajasthan)\\nReign\\t-->   1572â€“1597(25 years)\\nDynasty\\t--> Sisodia Rajput\\nFather\\t--> Maharana Udai Singh II\\nMother\\t--> Rani Jeevant Kanwa\\nSpouse  --> Maharani Ajabde Punwar\\nCapital\\t--> Chittorgarh\\nBattles\\t--> Battle of Haldighati (famous) and many more\\nKnown For\\t--> Resisting Mughal Emperor Akbarâ€™s rule\\nLegacy\\t--> Icon of Rajput valor and resistance\\nDeath Date\\t--> January 29, 1597\\nDeath Place\\t--> Chavand, Mewar (present-day Rajasthan)\\nSignificant Events\\t--> Refusal to accept Mughal suzerainty, battles\\nContributions\\t--> Defending Mewar from Mughal expansion\\n\\nMaharana Pratap History\\nMaharana Pratap was originally born as Pratap Singh. He was the elder son of Udai Singh II and Jaiwanta Bai. Rana Pratapâ€™s father Udai Singh II was the founder of Udaipur.\\n\\nMaharana Pratap was born on 9th May 1540 in a Hindu Rajput family who ruled the Mewar region for 35 years. In 1572, after the death of his father, he took over the throne at the age of 32 on 1st March 1572. From that time Pratap Singh became famous as Maharana Pratap.\\n\\nThere are different stories associated with Maharana Pratapâ€™s swords. He always carried a pair of swords which were 25 kg in total. These swords are now in the Indian museum. Here are some details of him as mentioned below:\\n\\nBirth and Lineage:\\nBorn on May 9, 1540, in Kumbhalgarh, Mewar (present-day Rajasthan).\\nBelonged to the Sisodia Rajput dynasty.\\nSon of Maharana Udai Singh II and Rani Jeevant Kanwa.\\n\\n\\nEarly Life:\\nAscended to the throne of Mewar in 1572 at the age of 32.\\nChittorgarh was the capital of his kingdom.\\nChallenges from the Mughals:\\nFaced the expansionist policies of the Mughal Emperor Akbar.\\nRefused to accept Mughal suzerainty and continued to rule independently.\\n\\n\\nBattle of Haldighati (1576):\\nMost famous battle of Maharana Pratapâ€™s life.\\nFought against the Mughal forces led by Raja Man Singh.\\nDespite being outnumbered, he displayed exceptional bravery.\\nThough not a clear victory, it became a symbol of his resistance.\\n\\n\\nLife in Exile:\\nAfter the Battle of Haldighati, Maharana Pratap and his supporters went into the Aravalli hills.\\nLived in the wilderness and continued his guerrilla warfare against the Mughals.\\nStruggle and Persistence:\\nMaharana Pratapâ€™s rule was marked by continuous struggle against the Mughals.\\nHe faced several hardships and battles but remained committed to regaining his kingdom.\\n\\n\\n\\nDeath and Legacy:\\nMaharana Pratap passed away on January 29, 1597, in Chavand, Mewar.\\nHe could not reclaim Chittorgarh during his lifetime.\\nRevered as an icon of Rajput valor and patriotism.\\nHis legacy continues to inspire generations, and he is celebrated as a symbol of resistance against foreign rule.\\n\\nContributions:\\nMaharana Pratapâ€™s unwavering spirit and determination to preserve his kingdomâ€™s independence are his most significant contributions.\\nHe upheld the Rajput code of honor and chivalry throughout his life.\\nHis refusal to submit to Mughal authority earned him the admiration of his people and subsequent generations.\\nMemorials:\\nSeveral memorials and monuments dedicated to Maharana Pratap exist in Rajasthan, including the famous Maharana Pratap Memorial in Udaipur.\\nEducation of Maharana Pratap\\nMaharana Pratap, being a Rajput ruler of his time, received education that was typical for young princes and nobility in his region during the 16th century. His education primarily focused on martial training, valor, and administrative \\n\\n\\nskills rather than formal academic education. His Education includes the following:\\nMartial Training: Maharana Pratap would have been trained in various forms of combat, including archery, swordsmanship, horse riding, and other martial skills. Rajput princes were expected to be skilled warriors.\\nChivalry and Code of Honor: He would have been taught the Rajput code of honor, emphasizing valor, loyalty, and bravery in battle.\\nAdministrative Skills: Training in governance and administration to prepare him for his future role as a ruler of Mewar.\\n\\nHunting and Outdoor Activities: Like many Rajput princes, he likely received training in hunting and other outdoor pursuits.\\n\\nMaharana Pratap Famous For\\nMaharana Pratap is famous for his bravery in battles, especially the Battle of Haldighati, where he stood up against the Mughals. The following is the Maharana Pratapâ€™s Legacy and Significance:\\n\\nBattle of Haldighati: Maharana Pratapâ€™s most famous feat is his courageous stand in the Battle of Haldighati (1576). Despite being outnumbered and facing the Mughal forces led by Raja Man Singh, he displayed exceptional valor. While the battle did not result in a clear victory, it became a symbol of his determination to defend Mewarâ€™s independence.\\nRefusal to Submit to the Mughals: Maharana Pratap staunchly refused to accept Mughal suzerainty and continued to rule independently in defiance of the powerful Mughal Empire. His principled stance earned him the admiration of his people and made him an iconic figure in the history of resistance against foreign rule.\\nSymbol of Rajput Valor: He is celebrated as an epitome of Rajput chivalry, honor, and valor. His unwavering commitment to the Rajput code of honor and his relentless struggle to protect his homeland have made him a legendary figure in Rajput history.\\nLegacy of Independence: Maharana Pratapâ€™s legacy continues to inspire generations as a symbol of independence and patriotism. His refusal to bow down to external powers and his dedication to the sovereignty of Mewar left an indelible mark on Indian history.\\nCultural and Historical Significance: He is an integral part of Rajasthani and Indian folklore, with numerous ballads, stories, and legends celebrating his bravery and resilience. His life and legacy are also a source of pride for the Rajput community. \\n\\n\\nCulture and Art During Maharana Pratapâ€™s Time\\nAfter shifting his capital to Chavand, he patronized so many writers and artisans. This initiative developed the Chavand School of Art later. Maharana Pratap was a Hindu but he stood alone against the Mughals to safeguard Hindu pride and Rajput Honor (à¤†à¤¨-à¤¬à¤¾à¤¨-à¤¶à¤¾à¤¨). A large portion of the population of Mewar was also Hindu.\\n\\nArt and Culture:\\n\\nArt in Mewar during Maharana Pratapâ€™s time reflected the rich Rajput heritage with a focus on intricate paintings, architecture, and crafts.\\nThe Mewar school of painting flourished, known for its miniature paintings depicting Rajput legends, religious themes, and court life.\\nThe architecture of Mewar, including forts and palaces, continued to showcase Rajput architectural styles, with an emphasis on grandeur and defense.\\nReligion:\\n\\nHinduism was the predominant religion in Mewar, and the patronage of temples and religious institutions continued during Maharana Pratapâ€™s rule.\\nThe rulers, including Maharana Pratap, were devout Hindus, and religious rituals and festivals played a significant role in the court and public life.\\nLiterature:\\n\\nRajput poetry and literature thrived during this period, with a focus on heroic epics and ballads celebrating the valor of Rajput warriors.\\nFolklore and oral traditions played a crucial role in preserving the heroic deeds and legends of Rajput heroes, including Maharana Pratap.\\nThe valor and struggles of Maharana Pratap were often celebrated in local folk songs and narratives, contributing to his legendary status.\\nMaharana Pratap Battles\\nMaharana Pratap was the only person who stood alone against the Akbar. Here are some major battles mentioned below which were fought by him.\\n\\n\\nBattle of Haldighati (1576)\\nIt is one of the most significant battles in the Indian history.\\nThe battle was started on 18th June, 1576.\\nThe battle was fought between Maharana Pratap and the Mughal army.\\nRaja Man Singh of Amber led the army who was a trusted general of Emperor Akbar.\\nRana Pratapâ€™s forces showed remarkable courage but faced defeat in this battle at last.\\nMaharana Pratap injured in this battle.\\nBattle of Chittorgarh (1567-1568)\\nMaharana Pratap fought against the Mughal forces in Chittorgarh Fort.\\nAt this time Chittorgarh was the capital of Mewar.\\nIt was under Mughal control for a brief period after when Akbar captured it. Maharana Pratap eventually recaptured the fort.\\n\\n\\nBattle of Dewair (1582)\\nRana Pratap continued his guerrilla warfare against the Mughals after the Battle of Haldighati.\\nThe battle was fought in 1582.\\nIn this battle, Maharana Pratapâ€™s forces succeeded in defeating a Mughal army.\\nThe Mughalsâ€™ force was led by Man Singh I.\\nBattle of Gogunda (1576-1577)\\nMaharana Pratap reorganized his forces and attacked the Mughal commander in Udaipur.\\nThe battle was fought around Gogunda.\\nIt was not a major victory but it showcased Maharana Pratapâ€™s determination to fight against the Mughal dominance.\\nBattle of Rakhtalai (1587)\\nRana Pratap confronted the joint forces of the Mughals and the Amber kingdom.\\nThe joint force was led by Akbar and Man Singh I.\\nMaharana Pratap managed to escape defeat in this battle and the conflict remained unsettled.\\nMaharana Pratapâ€™s Horse â€“ Chetak\\nChetak was Maharana Pratapâ€™s favorite horse. He was loyal and brave and had seen so many battles with Ranapratap.\\n\\nChetak was a loyal horse who played a major role in Rana Pratapâ€™s life.\\nChetak confront the Mughals in the Battle of Haldighati with Ranapratap.\\nIn the battle, Chetak fought alongside Maharana Pratap.\\nHe demonstrated extraordinary courage and set an example of loyalty.\\nDuring the battle, Chetak was seriously wounded.\\nMaharana Pratap was deeply sad by the loss of his loyal companion.\\nHe built a monument in Chetakâ€™s honor, known as 'Chetak Samadhi' present in Haldighati.\\nDeath of Maharana Pratap\\nRana Pratap faced many challenges after the Battle of Haldighati. He was in exile from his kingdom and lived in the rugged Aravalli Hills. He continued his struggle against the Mughals and refused to surrender his principles. Maharana Pratap died on 19th January 1597 at the age of 56. His eldest son Amar Singh I beacame the new king.\\n\\nWhile other Rajput clans accepted the supremacy of the Mughal Empire, he was the only person who stood alone against the Akbar, for this Maharana Pratap was so powerful.\\n\\nAmar Singh, Shakti Singh, Kunwar Vijay Singh, Kunwar Pratap Singh were the Maharana Pratapâ€™s son.\\n\\nBattle of Haldighati was the last war of Maharana Pratap.\\n\\nMaharana Pratap died in Chavand, Mewar, which is located in present-day Rajasthan, India.\\n\\nThe first love of Maharana Pratap was a woman named Ajabde Punwar. She was the daughter of the royal chieftain of a nearby kingdom. Maharana Pratap and Ajabde were childhood friends and eventually fell in love. They got married, and Ajabde became his first queen and the mother of his children. Their love story is well-known and is often romanticized in Rajput folklore and history.\")]"
      ]
     },
     "execution_count": 2,
     "metadata": {},
     "output_type": "execute_result"
    }
   ],
   "source": [
    "## Import text loader \n",
    "from langchain_community.document_loaders import TextLoader\n",
    "\n",
    "loader = TextLoader('docs\\Maharana_PratapJi.txt')\n",
    "\n",
    "text = loader.load()\n",
    "\n",
    "text"
   ]
  },
  {
   "cell_type": "code",
   "execution_count": 3,
   "metadata": {},
   "outputs": [
    {
     "data": {
      "text/plain": [
       "\"Source : https://www.geeksforgeeks.org/maharana-pratap-biography/\\n\\n\\nMaharana Pratap was a brave Rajput king in India who stood up against the powerful Mughal Empire. He is famous for his courage and refusal to surrender, making him a symbol of resistance and pride for many.\\n\\nMaharana Pratap was a Hindu Rajput king who ruled the Mewar region for 35 years. He was the 13th Maharana of Mewar and a member of the Sisodia dynasty.\\n\\nIn this article, we have covered the complete Maharana Pratap Biography, Why he is Famous, His Family tree, How did he died. His battles and many more in Detail.\\n\\nLetâ€™s dive right in.\\n\\nMaharana Pratap Life Overview\\nThe following is the Life Overview of Maharana Pratap:\\n\\nAspect\\t-->  Details\\nFull Name\\t--> Maharana Pratap Singh\\nBirth Date\\t--> May 9, 1540\\nBirthplace\\t--> Kumbhalgarh, Mewar (present-day Rajasthan)\\nReign\\t-->   1572â€“1597(25 years)\\nDynasty\\t--> Sisodia Rajput\\nFather\\t--> Maharana Udai Singh II\\nMother\\t--> Rani Jeevant Kanwa\\nSpouse  --> Maharani Ajabde Punwar\\nCapital\\t--> Chittorgarh\\nBattles\\t--> Battle of Haldighati (famous) and many more\\nKnown For\\t--> Resisting Mughal Emperor Akbarâ€™s rule\\nLegacy\\t--> Icon of Rajput valor and resistance\\nDeath Date\\t--> January 29, 1597\\nDeath Place\\t--> Chavand, Mewar (present-day Rajasthan)\\nSignificant Events\\t--> Refusal to accept Mughal suzerainty, battles\\nContributions\\t--> Defending Mewar from Mughal expansion\\n\\nMaharana Pratap History\\nMaharana Pratap was originally born as Pratap Singh. He was the elder son of Udai Singh II and Jaiwanta Bai. Rana Pratapâ€™s father Udai Singh II was the founder of Udaipur.\\n\\nMaharana Pratap was born on 9th May 1540 in a Hindu Rajput family who ruled the Mewar region for 35 years. In 1572, after the death of his father, he took over the throne at the age of 32 on 1st March 1572. From that time Pratap Singh became famous as Maharana Pratap.\\n\\nThere are different stories associated with Maharana Pratapâ€™s swords. He always carried a pair of swords which were 25 kg in total. These swords are now in the Indian museum. Here are some details of him as mentioned below:\\n\\nBirth and Lineage:\\nBorn on May 9, 1540, in Kumbhalgarh, Mewar (present-day Rajasthan).\\nBelonged to the Sisodia Rajput dynasty.\\nSon of Maharana Udai Singh II and Rani Jeevant Kanwa.\\n\\n\\nEarly Life:\\nAscended to the throne of Mewar in 1572 at the age of 32.\\nChittorgarh was the capital of his kingdom.\\nChallenges from the Mughals:\\nFaced the expansionist policies of the Mughal Emperor Akbar.\\nRefused to accept Mughal suzerainty and continued to rule independently.\\n\\n\\nBattle of Haldighati (1576):\\nMost famous battle of Maharana Pratapâ€™s life.\\nFought against the Mughal forces led by Raja Man Singh.\\nDespite being outnumbered, he displayed exceptional bravery.\\nThough not a clear victory, it became a symbol of his resistance.\\n\\n\\nLife in Exile:\\nAfter the Battle of Haldighati, Maharana Pratap and his supporters went into the Aravalli hills.\\nLived in the wilderness and continued his guerrilla warfare against the Mughals.\\nStruggle and Persistence:\\nMaharana Pratapâ€™s rule was marked by continuous struggle against the Mughals.\\nHe faced several hardships and battles but remained committed to regaining his kingdom.\\n\\n\\n\\nDeath and Legacy:\\nMaharana Pratap passed away on January 29, 1597, in Chavand, Mewar.\\nHe could not reclaim Chittorgarh during his lifetime.\\nRevered as an icon of Rajput valor and patriotism.\\nHis legacy continues to inspire generations, and he is celebrated as a symbol of resistance against foreign rule.\\n\\nContributions:\\nMaharana Pratapâ€™s unwavering spirit and determination to preserve his kingdomâ€™s independence are his most significant contributions.\\nHe upheld the Rajput code of honor and chivalry throughout his life.\\nHis refusal to submit to Mughal authority earned him the admiration of his people and subsequent generations.\\nMemorials:\\nSeveral memorials and monuments dedicated to Maharana Pratap exist in Rajasthan, including the famous Maharana Pratap Memorial in Udaipur.\\nEducation of Maharana Pratap\\nMaharana Pratap, being a Rajput ruler of his time, received education that was typical for young princes and nobility in his region during the 16th century. His education primarily focused on martial training, valor, and administrative \\n\\n\\nskills rather than formal academic education. His Education includes the following:\\nMartial Training: Maharana Pratap would have been trained in various forms of combat, including archery, swordsmanship, horse riding, and other martial skills. Rajput princes were expected to be skilled warriors.\\nChivalry and Code of Honor: He would have been taught the Rajput code of honor, emphasizing valor, loyalty, and bravery in battle.\\nAdministrative Skills: Training in governance and administration to prepare him for his future role as a ruler of Mewar.\\n\\nHunting and Outdoor Activities: Like many Rajput princes, he likely received training in hunting and other outdoor pursuits.\\n\\nMaharana Pratap Famous For\\nMaharana Pratap is famous for his bravery in battles, especially the Battle of Haldighati, where he stood up against the Mughals. The following is the Maharana Pratapâ€™s Legacy and Significance:\\n\\nBattle of Haldighati: Maharana Pratapâ€™s most famous feat is his courageous stand in the Battle of Haldighati (1576). Despite being outnumbered and facing the Mughal forces led by Raja Man Singh, he displayed exceptional valor. While the battle did not result in a clear victory, it became a symbol of his determination to defend Mewarâ€™s independence.\\nRefusal to Submit to the Mughals: Maharana Pratap staunchly refused to accept Mughal suzerainty and continued to rule independently in defiance of the powerful Mughal Empire. His principled stance earned him the admiration of his people and made him an iconic figure in the history of resistance against foreign rule.\\nSymbol of Rajput Valor: He is celebrated as an epitome of Rajput chivalry, honor, and valor. His unwavering commitment to the Rajput code of honor and his relentless struggle to protect his homeland have made him a legendary figure in Rajput history.\\nLegacy of Independence: Maharana Pratapâ€™s legacy continues to inspire generations as a symbol of independence and patriotism. His refusal to bow down to external powers and his dedication to the sovereignty of Mewar left an indelible mark on Indian history.\\nCultural and Historical Significance: He is an integral part of Rajasthani and Indian folklore, with numerous ballads, stories, and legends celebrating his bravery and resilience. His life and legacy are also a source of pride for the Rajput community. \\n\\n\\nCulture and Art During Maharana Pratapâ€™s Time\\nAfter shifting his capital to Chavand, he patronized so many writers and artisans. This initiative developed the Chavand School of Art later. Maharana Pratap was a Hindu but he stood alone against the Mughals to safeguard Hindu pride and Rajput Honor (à¤†à¤¨-à¤¬à¤¾à¤¨-à¤¶à¤¾à¤¨). A large portion of the population of Mewar was also Hindu.\\n\\nArt and Culture:\\n\\nArt in Mewar during Maharana Pratapâ€™s time reflected the rich Rajput heritage with a focus on intricate paintings, architecture, and crafts.\\nThe Mewar school of painting flourished, known for its miniature paintings depicting Rajput legends, religious themes, and court life.\\nThe architecture of Mewar, including forts and palaces, continued to showcase Rajput architectural styles, with an emphasis on grandeur and defense.\\nReligion:\\n\\nHinduism was the predominant religion in Mewar, and the patronage of temples and religious institutions continued during Maharana Pratapâ€™s rule.\\nThe rulers, including Maharana Pratap, were devout Hindus, and religious rituals and festivals played a significant role in the court and public life.\\nLiterature:\\n\\nRajput poetry and literature thrived during this period, with a focus on heroic epics and ballads celebrating the valor of Rajput warriors.\\nFolklore and oral traditions played a crucial role in preserving the heroic deeds and legends of Rajput heroes, including Maharana Pratap.\\nThe valor and struggles of Maharana Pratap were often celebrated in local folk songs and narratives, contributing to his legendary status.\\nMaharana Pratap Battles\\nMaharana Pratap was the only person who stood alone against the Akbar. Here are some major battles mentioned below which were fought by him.\\n\\n\\nBattle of Haldighati (1576)\\nIt is one of the most significant battles in the Indian history.\\nThe battle was started on 18th June, 1576.\\nThe battle was fought between Maharana Pratap and the Mughal army.\\nRaja Man Singh of Amber led the army who was a trusted general of Emperor Akbar.\\nRana Pratapâ€™s forces showed remarkable courage but faced defeat in this battle at last.\\nMaharana Pratap injured in this battle.\\nBattle of Chittorgarh (1567-1568)\\nMaharana Pratap fought against the Mughal forces in Chittorgarh Fort.\\nAt this time Chittorgarh was the capital of Mewar.\\nIt was under Mughal control for a brief period after when Akbar captured it. Maharana Pratap eventually recaptured the fort.\\n\\n\\nBattle of Dewair (1582)\\nRana Pratap continued his guerrilla warfare against the Mughals after the Battle of Haldighati.\\nThe battle was fought in 1582.\\nIn this battle, Maharana Pratapâ€™s forces succeeded in defeating a Mughal army.\\nThe Mughalsâ€™ force was led by Man Singh I.\\nBattle of Gogunda (1576-1577)\\nMaharana Pratap reorganized his forces and attacked the Mughal commander in Udaipur.\\nThe battle was fought around Gogunda.\\nIt was not a major victory but it showcased Maharana Pratapâ€™s determination to fight against the Mughal dominance.\\nBattle of Rakhtalai (1587)\\nRana Pratap confronted the joint forces of the Mughals and the Amber kingdom.\\nThe joint force was led by Akbar and Man Singh I.\\nMaharana Pratap managed to escape defeat in this battle and the conflict remained unsettled.\\nMaharana Pratapâ€™s Horse â€“ Chetak\\nChetak was Maharana Pratapâ€™s favorite horse. He was loyal and brave and had seen so many battles with Ranapratap.\\n\\nChetak was a loyal horse who played a major role in Rana Pratapâ€™s life.\\nChetak confront the Mughals in the Battle of Haldighati with Ranapratap.\\nIn the battle, Chetak fought alongside Maharana Pratap.\\nHe demonstrated extraordinary courage and set an example of loyalty.\\nDuring the battle, Chetak was seriously wounded.\\nMaharana Pratap was deeply sad by the loss of his loyal companion.\\nHe built a monument in Chetakâ€™s honor, known as 'Chetak Samadhi' present in Haldighati.\\nDeath of Maharana Pratap\\nRana Pratap faced many challenges after the Battle of Haldighati. He was in exile from his kingdom and lived in the rugged Aravalli Hills. He continued his struggle against the Mughals and refused to surrender his principles. Maharana Pratap died on 19th January 1597 at the age of 56. His eldest son Amar Singh I beacame the new king.\\n\\nWhile other Rajput clans accepted the supremacy of the Mughal Empire, he was the only person who stood alone against the Akbar, for this Maharana Pratap was so powerful.\\n\\nAmar Singh, Shakti Singh, Kunwar Vijay Singh, Kunwar Pratap Singh were the Maharana Pratapâ€™s son.\\n\\nBattle of Haldighati was the last war of Maharana Pratap.\\n\\nMaharana Pratap died in Chavand, Mewar, which is located in present-day Rajasthan, India.\\n\\nThe first love of Maharana Pratap was a woman named Ajabde Punwar. She was the daughter of the royal chieftain of a nearby kingdom. Maharana Pratap and Ajabde were childhood friends and eventually fell in love. They got married, and Ajabde became his first queen and the mother of his children. Their love story is well-known and is often romanticized in Rajput folklore and history.\""
      ]
     },
     "execution_count": 3,
     "metadata": {},
     "output_type": "execute_result"
    }
   ],
   "source": [
    "text[0].page_content"
   ]
  },
  {
   "cell_type": "markdown",
   "metadata": {},
   "source": [
    "### PDF  Loader "
   ]
  },
  {
   "cell_type": "code",
   "execution_count": 4,
   "metadata": {},
   "outputs": [
    {
     "data": {
      "text/plain": [
       "111"
      ]
     },
     "execution_count": 4,
     "metadata": {},
     "output_type": "execute_result"
    }
   ],
   "source": [
    "from langchain_community.document_loaders import PyPDFLoader\n",
    "\n",
    "pdfloader = PyPDFLoader('docs\\Introduction to Stock Markets.pdf')\n",
    "\n",
    "pdf_text = pdfloader.load()\n",
    "\n",
    "len(pdf_text)"
   ]
  },
  {
   "cell_type": "code",
   "execution_count": 5,
   "metadata": {},
   "outputs": [
    {
     "data": {
      "text/plain": [
       "'{\"id\": null, \"metadata\": {\"source\": \"docs\\\\\\\\Introduction to Stock Markets.pdf\", \"page\": 2}, \"page_content\": \"5.2\\\\nWhy do companies go public\\\\n33\\\\n5.3\\\\nMerchant bankers\\\\n34\\\\n5.4\\\\nIPO sequence of events\\\\n35\\\\n5.5\\\\nWhat happens after the IPO\\\\n36\\\\n5.6\\\\nFew IPO Jargons\\\\n36\\\\n5.7\\\\nRecent IPO\\\\u2019s in India\\\\n37\\\\n6\\\\nThe Stock Markets\\\\n40\\\\n6.1\\\\nOverview\\\\n40\\\\n6.2\\\\nWhat really is the stock market ?\\\\n41\\\\n6.3\\\\nWhat moves the stock ?\\\\n42\\\\n6.4\\\\nHow does the stock get traded ?\\\\n44\\\\n6.5\\\\nWhat happens after you own a stock ?\\\\n45\\\\n6.6\\\\nA note on the holding period\\\\n45\\\\n6.7\\\\nHow to calculate returns ?\\\\n46\\\\n6.8\\\\nWhere do you fit in ? \\\\n47\\\\n7\\\\nThe Stock Markets Index\\\\n50\\\\n7.1\\\\nOverview\\\\n50\\\\n7.2\\\\nThe Index\\\\n51\\\\n7.3\\\\nPractical uses of the Index\\\\n51\\\\n7.4\\\\nIndex construction methodology\\\\n53\\\\n7.5\\\\nSector specific indices\\\\n57\\\\n8\\\\nCommonly used Jargons\\\\n59\\\\n9\\\\nThe Trading Terminal \\\\n9.1\\\\nOverview\\\\n65\\\\n65\", \"type\": \"Document\"}'"
      ]
     },
     "execution_count": 5,
     "metadata": {},
     "output_type": "execute_result"
    }
   ],
   "source": [
    "pdf_text[2].json()"
   ]
  },
  {
   "cell_type": "markdown",
   "metadata": {},
   "source": [
    "## Vector Store and Retrival"
   ]
  },
  {
   "cell_type": "code",
   "execution_count": 6,
   "metadata": {},
   "outputs": [
    {
     "data": {
      "text/plain": [
       "[Document(metadata={'source': 'docs\\\\Introduction to Stock Markets.pdf', 'page': 0}, page_content='Introduction to Stock MarketsZERODHA.COM/VARSITYZERODHA'),\n",
       " Document(metadata={'source': 'docs\\\\Introduction to Stock Markets.pdf', 'page': 1}, page_content='TABLE OF CONTENTS \\n1\\nThe Need to Invest\\n1\\n1.1\\nWhy should one invest\\n1\\n1.2\\nWhere to invest\\n3\\n1.3\\nFixed income instruments\\n5\\n1.4\\nEquity\\n5\\n1.5\\nReal estate\\n6\\n1.6\\nCommodity - Bullion\\n6\\n1.7\\nA note on investments\\n7\\n1.8\\nWhat are the things to know before investing\\n7\\n2\\nRegulators\\n9\\n2.1\\nWhat is a stock market?\\n9\\n2.2\\nStock market participants and the need to regulate them\\n10\\n2.3\\nThe Regulator\\n11\\n3\\nFinancial Intermediaries\\n15\\n3.1\\nOverview\\n15\\n3.2\\nThe Stock broker\\n16\\n3.3\\nDepository and Depository Participants\\n17\\n3.4'),\n",
       " Document(metadata={'source': 'docs\\\\Introduction to Stock Markets.pdf', 'page': 1}, page_content='3.3\\nDepository and Depository Participants\\n17\\n3.4\\nBanks\\n18\\n3.5\\nNSCCL and ICCL\\n18\\n4\\nThe IPO Markets - Part 1\\n21\\n4.1\\nOverview\\n21\\n4.2\\nOrigin of a business\\n21\\n5\\nThe IPO Markets - Part 2\\n5.1\\nOverview\\n32\\n32'),\n",
       " Document(metadata={'source': 'docs\\\\Introduction to Stock Markets.pdf', 'page': 2}, page_content='5.2\\nWhy do companies go public\\n33\\n5.3\\nMerchant bankers\\n34\\n5.4\\nIPO sequence of events\\n35\\n5.5\\nWhat happens after the IPO\\n36\\n5.6\\nFew IPO Jargons\\n36\\n5.7\\nRecent IPO’s in India\\n37\\n6\\nThe Stock Markets\\n40\\n6.1\\nOverview\\n40\\n6.2\\nWhat really is the stock market ?\\n41\\n6.3\\nWhat moves the stock ?\\n42\\n6.4\\nHow does the stock get traded ?\\n44\\n6.5\\nWhat happens after you own a stock ?\\n45\\n6.6\\nA note on the holding period\\n45\\n6.7\\nHow to calculate returns ?\\n46\\n6.8\\nWhere do you fit in ? \\n47\\n7\\nThe Stock Markets Index\\n50\\n7.1\\nOverview\\n50'),\n",
       " Document(metadata={'source': 'docs\\\\Introduction to Stock Markets.pdf', 'page': 2}, page_content='47\\n7\\nThe Stock Markets Index\\n50\\n7.1\\nOverview\\n50\\n7.2\\nThe Index\\n51\\n7.3\\nPractical uses of the Index\\n51\\n7.4\\nIndex construction methodology\\n53\\n7.5\\nSector specific indices\\n57\\n8\\nCommonly used Jargons\\n59\\n9\\nThe Trading Terminal \\n9.1\\nOverview\\n65\\n65')]"
      ]
     },
     "execution_count": 6,
     "metadata": {},
     "output_type": "execute_result"
    }
   ],
   "source": [
    "## RecursiveCharacterTextSplitter will split test into small chunks due to llm has less context size.\n",
    "\n",
    "from langchain_text_splitters import RecursiveCharacterTextSplitter\n",
    "\n",
    "text_splitter = RecursiveCharacterTextSplitter( chunk_size=512,chunk_overlap=50)\n",
    "\n",
    "# Conveting TXT text to chunk\n",
    "chunk_text = text_splitter.split_documents(text)\n",
    "chunk_text[:5]\n",
    "\n",
    "# Conveting PDF text to chunk\n",
    "chunk_pdf = text_splitter.split_documents(pdf_text)\n",
    "chunk_pdf[:5]"
   ]
  },
  {
   "cell_type": "markdown",
   "metadata": {},
   "source": [
    "### Adding Cohere Embedder"
   ]
  },
  {
   "cell_type": "code",
   "execution_count": 7,
   "metadata": {},
   "outputs": [],
   "source": [
    "## we have chunks, we need to ADD those chunct into vector database so we need to have vector embedding first then we can insert the record into cromadb.\n",
    "\n",
    "if not os.getenv(\"COHERE_API_KEY\"):\n",
    "    os.environ[\"COHERE_API_KEY\"] = getpass.getpass()"
   ]
  },
  {
   "cell_type": "code",
   "execution_count": 8,
   "metadata": {},
   "outputs": [
    {
     "name": "stdout",
     "output_type": "stream",
     "text": [
      "sagemaker.config INFO - Not applying SDK defaults from location: C:\\ProgramData\\sagemaker\\sagemaker\\config.yaml\n",
      "sagemaker.config INFO - Not applying SDK defaults from location: C:\\Users\\GAURAV\\AppData\\Local\\sagemaker\\sagemaker\\config.yaml\n"
     ]
    }
   ],
   "source": [
    "from langchain_cohere import CohereEmbeddings\n",
    "\n",
    "embeddings = CohereEmbeddings(\n",
    "    model=\"embed-english-v3.0\",\n",
    ")"
   ]
  },
  {
   "cell_type": "markdown",
   "metadata": {},
   "source": [
    "### ChromaDB"
   ]
  },
  {
   "cell_type": "code",
   "execution_count": 9,
   "metadata": {},
   "outputs": [],
   "source": [
    "from langchain_chroma import Chroma\n",
    "\n",
    "vector_store = Chroma(\n",
    "    collection_name=\"FirstCromaCollect\",\n",
    "    embedding_function=embeddings,\n",
    "    persist_directory=\"./chroma_langchain_db_one\",  # Where to save data locally, remove if not necessary\n",
    ")"
   ]
  },
  {
   "cell_type": "code",
   "execution_count": 10,
   "metadata": {},
   "outputs": [
    {
     "data": {
      "text/plain": [
       "['ad33a84f-352f-47d3-a790-8c00776e72ff',\n",
       " 'b4b5647d-ce74-40e7-a20c-c4fa34d71c84',\n",
       " '6a7d3d1f-2429-4ec7-81f8-684426036616',\n",
       " 'aed9e4a4-d650-465f-858b-c98422556377',\n",
       " 'bc57dcfb-96eb-40ae-a88f-dd8548834374',\n",
       " '253fe1aa-61fb-4823-a225-7c7ae06d62e7',\n",
       " '4758f770-01d0-46ff-8bf5-05398108b330',\n",
       " '85e0691c-29cc-401e-bf46-dcb328e02c03',\n",
       " '62ff5d11-fb75-4845-b340-c04d67eab46a',\n",
       " 'f426bf21-ee5b-49f8-a91c-e1677315ff06',\n",
       " 'bcae5085-d1ec-4802-970f-62f81c618802',\n",
       " '0f265272-2be3-404b-bfc8-1cf7c3b2c0d6',\n",
       " '4835205e-cb0b-4df4-9f4d-ae8582f1a997',\n",
       " 'c3dd2de0-ba5d-4754-bb15-aa58586323d4',\n",
       " 'a398115b-6935-4683-8002-d3ef59f9c58e',\n",
       " '5b2dc052-9e59-44a5-823d-2e34047e7d5a',\n",
       " '3712e527-831c-4243-addd-b1929b200f45',\n",
       " 'ed50e679-e734-4b7c-86a7-83a98574f42a',\n",
       " 'de475d94-8fa7-4ddf-b5f8-c9b151356090',\n",
       " 'e497ab39-89dd-40e7-8e5f-6cb8b84c7f1b',\n",
       " '6d4de309-a652-4c1f-969b-7520ba16b87c',\n",
       " 'c66c2ef3-81a0-44d9-b523-c6d2c233082c',\n",
       " '7dde75a5-ec4b-4166-a50d-6516806a9ce8',\n",
       " '3f3ef394-3fed-4598-8db1-7d9f9b2b843c',\n",
       " '697e49d3-9021-4ea4-b705-be40bdf0f9b7',\n",
       " 'dd971c49-5e25-419b-b07e-a17684e6a559',\n",
       " 'c9301d52-ea0d-4a3c-8d75-1ea0f03eca29',\n",
       " '6fcef2e5-c0f6-4797-b7d4-1b30dbbb3195',\n",
       " 'd07f88eb-2a9c-4fdd-af86-41e27e7bf23b',\n",
       " 'f306ffa2-d31b-4d95-8a2b-1a35c4c61a8d',\n",
       " '8f835fc6-2116-4e82-ae6c-c0db4065d6bf',\n",
       " 'c69b7e11-9354-4ab0-923f-76a467cc9415',\n",
       " 'ae7f0c0e-593f-4188-827b-f184740b4e92',\n",
       " '8ccf4247-b3c2-4f7d-826e-cb10496a13f3',\n",
       " 'a4dd3750-d6b3-4c4d-977a-8dfd2d53e3b6',\n",
       " '67b03b28-0837-49f3-95b4-fcb79fc02345',\n",
       " '580a8e55-f967-4269-ad65-c30c1c0a5ce5',\n",
       " '32e82182-ffdf-475b-935a-03b5fedacb2e',\n",
       " '68bca00f-06bc-4bc2-ab37-b12e4ce92562',\n",
       " '8f1d611b-f6de-48b4-91dd-f07c02279201',\n",
       " '3ee64051-acd2-4d9b-94e2-30f2f02be7eb',\n",
       " '28de9eae-f10e-4e2d-bd7f-49f701087702',\n",
       " 'ac679786-4ba5-48b2-b4c3-2ca4ee9a05e5',\n",
       " '5fea4b15-6c8f-482d-8302-b0df232daee6',\n",
       " '473dd67d-fef4-4526-9692-4d48954f57bf',\n",
       " '048a0f4b-5eca-4f74-9bef-014ffa5594ae',\n",
       " '30110815-dd3d-4cc5-9093-5a739b6010c5',\n",
       " '42507f19-b897-4b63-94e0-dfd977e3e17c',\n",
       " '592873e7-dcdd-456a-a6ec-68da89ed1de8',\n",
       " 'ecb0ecc0-beeb-4a6d-adbd-d81fa33139da',\n",
       " '1389f457-a169-46c8-a97c-cd7ae89e2b40',\n",
       " '5662ac83-ec47-4c77-8b29-f81e95e7eb09',\n",
       " 'c9b95b28-22af-486c-86c8-5307caff9eb7',\n",
       " 'b5f3dc5c-9c19-4509-8b19-7a89e9512d88',\n",
       " '95b59e4a-4227-4d6e-a8d5-7893e86c9802',\n",
       " '3426355a-d9cb-4432-8016-6592733e040d',\n",
       " 'b0a7c79c-26c1-4a70-b04c-0baa952d240a',\n",
       " '57b004ec-3709-4e7e-89bc-89b400776323',\n",
       " '696bfd30-d7a8-4828-bfd1-72aef52edde1',\n",
       " '80843695-0acd-4806-909f-caf73e68332b',\n",
       " 'c4782175-71fc-4ca8-9d3c-de7986d8d66d',\n",
       " '12ef53ad-3b66-4c83-b058-88727b0c5fd4',\n",
       " 'f1dc2d4d-703a-4332-a516-86963db8d9a8',\n",
       " '3f4b0102-e306-4169-9b9d-a88ed61b6691',\n",
       " 'a80f50a4-c317-453c-8e1b-18d6a8f64201',\n",
       " '13a5b669-6479-491f-a2df-47cbb46bdef9',\n",
       " 'd0343661-7d37-4472-9f93-c2b778cfb67c',\n",
       " '256fe7e5-9422-4f52-a63e-7bc7e1bb7eec',\n",
       " 'bf1f91e3-42c7-48c2-8004-448729f079ee',\n",
       " '68c0d912-a0ad-42aa-a2b5-aaa61c0fb3db',\n",
       " '60cf2cc9-8700-4b5e-b374-1f64ae911a0b',\n",
       " '51f3a67a-da59-4a62-bc86-52ab9ca79533',\n",
       " 'cf8e7264-a289-4eaf-b59c-e0b49fd4c60c',\n",
       " '57894bbe-8851-41c5-90f5-09da4b308444',\n",
       " 'be0c6c38-8d96-4253-a67a-044a2c576775',\n",
       " '15dd821d-d50f-4dc8-9731-a7bad53be883',\n",
       " 'f2346c93-2c53-4d75-8325-4d681da5e6e9',\n",
       " 'a1cf92cd-1930-43e0-a41d-a3c328f9e9c9',\n",
       " '82f9d92b-bf44-40d0-9f74-73c456701b66',\n",
       " 'a70ac697-fb02-4ade-8d3e-a3d8f2409075',\n",
       " '31c3798f-1d9f-43df-ba26-4b486e0b753f',\n",
       " 'f3fa2351-25a2-4599-8243-99db097290d7',\n",
       " '5e267793-6f40-4920-b348-57c87388a7b6',\n",
       " 'ae9fad45-0683-4d90-abaa-8268f1b4410a',\n",
       " 'd64e0469-4d15-49aa-84c0-52ea39f5880f',\n",
       " '83361d63-b111-462e-bab7-5ed8f23eb4ed',\n",
       " '04a69877-8795-4630-8a3c-3b21867e06b5',\n",
       " '7d40efbc-4a21-47b3-95b9-70894a5835e2',\n",
       " '0e09e27c-841f-4e4c-8216-8ce5523cedd3',\n",
       " '914b00cd-04e4-4e66-907f-33da1365e4f0',\n",
       " 'c1b2ef7f-134a-4cc8-98c6-69cfd7f65231',\n",
       " 'c94ccb73-5a86-4025-9825-1f6ef76af737',\n",
       " '2d0606cf-53b3-4212-92a0-c4c7126e6fa2',\n",
       " '1df8ee63-8b97-49bf-8af0-383b2ad4bd36',\n",
       " '9ebc6fe0-1ffc-4748-8dc8-9ba439dda7b4',\n",
       " 'b720359d-7859-44b7-b6d0-8f18b59edaa4',\n",
       " '6f84101c-53c1-4a5b-9e1d-9ed6b1b4ea26',\n",
       " '252f9ef0-0e26-43c9-b21e-a500d543e305',\n",
       " 'e5f8bf65-674d-430e-bcc4-36292e8c61a0',\n",
       " '9add871a-a913-4d23-8a63-a374f2127412',\n",
       " '50fb1d7e-724e-40d7-afb9-deff4b70e6d4',\n",
       " 'd462ee53-a9c7-44a9-aad1-82d0c8220a95',\n",
       " '6f5a8c4c-54bb-42fb-80af-09083e4b5145',\n",
       " '30920cb7-30b1-4ccd-b0c7-f4ba24f1a1eb',\n",
       " 'c21f5724-28b1-41b9-b760-005c3a561a76',\n",
       " 'cfa3d5ef-f427-4af5-9727-cfc1b44b1ba1',\n",
       " '710e5f8f-8dfa-44f1-8bd4-786ae1c72649',\n",
       " '6cce6a8c-bda0-4c96-8bc5-76c3f3821ecc',\n",
       " '1445344c-5960-44e3-bfc6-297f0af358e0',\n",
       " 'c6406c94-d74f-4104-92f7-e8b39f29c88b',\n",
       " '6547b68e-b68e-4113-a932-acac15504de7',\n",
       " '326ba325-8041-4b65-b7db-7640278d6258',\n",
       " '1f5aeea0-12f3-48c7-aa72-47feac8231bd',\n",
       " 'a99957df-fa4e-4954-b960-e4c8bbc84871',\n",
       " '8af5b132-c2e5-4268-b60e-db17956d032d',\n",
       " 'aac1b81e-dd8c-4ce3-b898-f2c0c076b5d2',\n",
       " '68930332-9106-4c6d-b7f6-7bf9f5abb0ff',\n",
       " '461c449b-8cfe-4e6a-b822-b5f4c6cb8b17',\n",
       " 'db5185ce-910b-4953-85f0-1187433bf9c1',\n",
       " '4bd473c9-c518-4d8b-80fb-2516d29fbd23',\n",
       " '526081fc-e035-42df-9d50-b671254ddfff',\n",
       " '5186cf52-a018-4c7e-9c90-c4c1756cb863',\n",
       " 'cfcdf1aa-27a0-4048-b4e4-c870608fc1a1',\n",
       " '34d41d1b-0dfc-4445-9203-d5a33ae47e37',\n",
       " '24534dca-bd7f-4172-8a5c-a2d873a0938f',\n",
       " '6435b705-22dc-4263-a7c8-ca542c635529',\n",
       " '4b3fa935-8078-49cb-931c-0266b77fec05',\n",
       " '18800cae-4d7f-400a-aa29-4d7b624ea7ce',\n",
       " '4db83f39-d469-4f23-afbe-c8e43c9c3ccb',\n",
       " 'abb8598b-9344-4906-a834-27277d024eff',\n",
       " 'c41054a6-8178-44e4-a8df-2950fd39fd53',\n",
       " '7d8fa42b-8bf0-4faf-ab36-62f7803ea628',\n",
       " '85f0fd3e-5709-4d71-aa40-0484aaa48ca1',\n",
       " '989207ff-ddc1-4236-ac3d-4e16e1218346',\n",
       " 'c1980213-11f6-4552-8803-a514b6647daa',\n",
       " '1b16d14d-9e41-4cf4-aea0-0d7581932c44',\n",
       " 'abb01434-3f20-499d-a6dd-b708b8d56dfb',\n",
       " 'e4da3200-6176-417d-9afa-ca4be9f66d9b',\n",
       " 'a2ac6209-aa30-446c-b3a8-4770a69d0ad9',\n",
       " '791c261f-d814-4c98-b903-0f7ffab55788',\n",
       " '3f121b1c-21e9-43e6-83fa-1c6e411deaf4',\n",
       " '939e15fa-21d6-4541-af05-c8017082053f',\n",
       " '07c72243-75dc-4ce9-8864-8d6571b604d5',\n",
       " '29f9dcb8-cac2-4b59-9d2c-447109367955',\n",
       " 'c936fa10-17f9-4f7d-b72e-520a1511d618',\n",
       " '5bc9230b-2e0c-4310-88c0-b96d3666e6b9',\n",
       " '982010a7-8a38-4069-85b1-b12192bb493b',\n",
       " '4bc193d4-212f-449d-acc2-db7163293a23',\n",
       " '1ee64dc3-ad17-4253-b2fc-f51ced7fc87f',\n",
       " 'a1e0aad9-09fb-4aa9-a7b1-f6b6be052eb1',\n",
       " '03d834aa-a410-4b6c-ba15-6d56c66ffab7',\n",
       " '44539098-4d51-42da-8a15-6ecdf12f251b',\n",
       " 'a9d79ee3-52c6-45d0-86da-ed5fc7653ad4',\n",
       " 'abea6a94-8b31-4812-b863-352044a3385c',\n",
       " 'cf1d76e4-88ea-4c89-9071-76df1ac74410',\n",
       " '2f7e77ce-771e-46d2-8dab-1dbe1e927d03',\n",
       " '0795e52f-fd46-44c2-81af-05908dec1f3d',\n",
       " '42e9c393-2f38-400d-adb8-35d640a35041',\n",
       " 'd8d69b1f-4f3d-48da-90e3-94ff9c3f63fa',\n",
       " '4c12e321-3f66-418c-9756-f04449369655',\n",
       " '6673acb5-ab92-4a6a-a3b9-0d441c2233db',\n",
       " '915d345b-6350-4e00-ac49-fc100c29de54',\n",
       " 'a549f332-51fa-486c-b65b-4a58285e3829',\n",
       " 'd506b997-3ce2-4291-b388-7d8ab5c3bb87',\n",
       " 'e34482b6-57ca-4a8a-9d70-7d759fbf8765',\n",
       " 'f276085f-b090-4907-9ca7-5c951f8254c4',\n",
       " '26a23e02-06be-4605-ad59-500fe7648c88',\n",
       " '5a9def52-49f2-439d-ba04-2784ade2a5f9',\n",
       " '51d3efb6-0468-4c8f-a9a3-81fe322bacc8',\n",
       " '98cc5c29-77c0-48e3-a8c3-dde467dcff0a',\n",
       " 'b82484db-9d9d-4fb1-9d9a-7da573564e5f',\n",
       " 'f53c333e-d59d-4c90-a0ae-b56d062d11e7',\n",
       " 'a3e5ac49-cc33-43d4-a7a0-07b6e6ce3759',\n",
       " '5bb36ca0-0052-4dd4-a9d5-ffa757cdd175',\n",
       " 'b587edf1-6662-4004-b6b1-2419d72f0a1b',\n",
       " '00347cc9-2c5e-48f6-af86-b9dd10230503',\n",
       " '6dccb245-9cd0-496e-8354-b81d5719ea24',\n",
       " '3b728ae7-0898-462d-be56-d947e3aae010',\n",
       " 'a9967be1-363e-498c-9a83-574e596286a6',\n",
       " '42771666-e6df-4571-8e50-b695666a7625',\n",
       " '4d151b7a-a607-4b81-bec7-3082f1eebbfe',\n",
       " '11e07569-a195-48cb-becd-3f3ed786284f',\n",
       " '7dc3fcf1-96a1-45d3-9504-e9fa067161c4',\n",
       " 'e9a2d18e-e81f-4d59-be67-b62cfe49c1b4',\n",
       " '02bdc10f-514e-43cb-979b-5ed6fdf326f1',\n",
       " '1a566da4-102f-4123-92c8-6217caaa70d8',\n",
       " '74e7b019-2dad-4743-a2c8-2d206ebbd85f',\n",
       " '358e6872-f7ea-40ad-a004-2956b68d8fb9',\n",
       " '9fedc85d-ebac-4bdc-99f6-c923fe7c86fe',\n",
       " 'f0231872-7529-45f7-b53c-10a744cc7099',\n",
       " '7e6dcd47-e582-4b96-b8d0-49e1dc12fc41',\n",
       " 'c7559e1c-a50e-45f9-bdd7-2045dd17f345',\n",
       " '7a812937-fa31-463b-abe6-de28d34d71dd',\n",
       " '2aec8a53-fade-409e-b91c-aac5ec2631a1',\n",
       " '1d7fd27c-6b11-4762-8483-97533e51ff47',\n",
       " '40b32f83-c947-4263-976c-dd0ec7d2bd69',\n",
       " '212d480d-a097-4bc1-9fc8-e96e8d338112',\n",
       " 'a8908a0b-0be3-4577-b643-af9e7f9ba5a0',\n",
       " '25436e11-d851-4e7c-8989-b4568fbce543',\n",
       " '7435cee5-e8fe-44f6-8a20-0a1e6a1d810d',\n",
       " 'b7be065e-b122-4ab5-ae77-b9322b00d6ac',\n",
       " '80728f97-d808-49f7-8fe5-468828e29265',\n",
       " '68119f89-3f2c-4a05-b5c7-e614b9b4bc04',\n",
       " 'fe765384-3f9f-4964-8103-c118cee01efb',\n",
       " '3f257c34-4ef4-4307-934a-27fe1b35c38f',\n",
       " 'd37514fa-877f-4410-8537-591f6390cd84',\n",
       " 'c18f0e9b-5713-4c58-9c09-27245f3684d2',\n",
       " 'a1337840-e1fa-4cc5-810a-3712a2d29a5b',\n",
       " '038da455-2322-404e-925e-6d4ea5978fd4',\n",
       " '69d17c7c-83e5-4a00-833c-8abb7dd347e5',\n",
       " '358f9317-aebd-4ab8-b3de-c773f420f655',\n",
       " 'e8b74c1e-f7d0-49fb-8956-857105564a27',\n",
       " '90b3b416-5c75-4c3d-a9a4-e239d76ebc61',\n",
       " '1b18a891-601f-4aa4-aa34-b8c06fa81d5e',\n",
       " '97c8655b-4d76-44b5-a4ea-4efffb98914a',\n",
       " 'c9a632ed-ccd4-44be-bdf5-09efddd03a99',\n",
       " '86601432-f370-4d7e-97e9-9be631d8ae44',\n",
       " '5c9a385c-1193-462d-bc67-c91d73302c30',\n",
       " '9e5261c2-da85-4e71-b845-4f92f0a8c434',\n",
       " '6c05b75f-973f-4e8e-8b3d-9759612c5f82',\n",
       " '729d6b37-04aa-41d1-9ad0-5057175f609a',\n",
       " '62b81dd5-83e8-4cb8-ba84-f01e0ebd4611',\n",
       " '5b070eb7-f8c8-4358-a2e0-5d9c2d676f96',\n",
       " 'dd026e6b-ecbb-4625-9542-e6b3074080bd',\n",
       " 'e7b1f79f-7f60-4f69-9b93-6f87ce129b98',\n",
       " 'ff571884-b216-4c89-9408-bc1c91bee61c',\n",
       " 'b6d35f86-470b-40de-b33a-f0451138ffb5',\n",
       " '4990eabf-51c7-4bc6-b828-d4f7079a73bd',\n",
       " 'a570b57d-09da-40ec-ada2-c2b8368543f1',\n",
       " '493b8f98-e896-4108-a6a2-884ca607ce07',\n",
       " '6497745e-9dc0-4da2-9427-2aa420e755db',\n",
       " '2b3f9415-53b9-4ec8-8593-f55e56856d89',\n",
       " '3115b978-1383-4551-9ecd-1b56b31b450e',\n",
       " '35ecf944-cc07-4844-b7bc-634cf5ba9e44',\n",
       " 'b7e0dc45-568f-454b-908a-c5c19cf57b0c',\n",
       " '6d02c633-c83f-409b-8d1b-909acab39079',\n",
       " '26088c71-c967-4136-9348-e5ac76fdebda',\n",
       " '075cdfe9-86c5-4ee4-9761-3355492a70ab',\n",
       " '6290e09f-baaa-4d30-9b60-43a1e063cb95',\n",
       " '022c8398-dc9e-4962-bb9f-1c9e993e5a95',\n",
       " 'd640a169-5178-483e-abc1-6ee8153502e0',\n",
       " 'adf7ac34-81c0-4102-93ae-7c2d1c4e31bf',\n",
       " '98ae5959-9f6c-4a4d-bbdb-ae3d0ac34ad9',\n",
       " '2685427f-73d4-462a-9b24-a4c8875df623',\n",
       " 'dab51af1-25a9-4a50-ba87-87829dc7ad9e',\n",
       " 'c5525206-4531-44c5-b3dd-08ec53dd975a',\n",
       " '5869c652-661e-4288-9b1c-4cdcc1544b23',\n",
       " 'c6ca460d-7e96-4ab3-9506-795f884c6239',\n",
       " '8484f190-1181-4dfa-b3f0-59263aa0c8b8',\n",
       " '0cdd6be0-f0e9-48b3-baec-955edb60036e',\n",
       " '61fe28ae-982e-49dd-914e-453908f6d0d1',\n",
       " 'aa86ca55-1447-476a-a8c6-8bb5c0f4b9e9',\n",
       " 'e6709184-6c88-47ff-9d79-2f8202c189f0',\n",
       " '98060a8f-bc5e-43ee-9409-d3b1bbcf5339',\n",
       " '5f2c1c11-3552-46d4-adcd-6d1db2ff2ce0',\n",
       " '3dc5aed7-69b5-453c-8796-64021279b106',\n",
       " '71f8ed5c-77b2-46f2-8c31-61ef2cb4bda0',\n",
       " '6bfbaecb-cbe6-482d-8998-54dc3cba507a',\n",
       " '966e3cc7-0528-46a1-b25c-c27479806e0b',\n",
       " '486a7dcb-486d-422b-bbee-50f6a6fe2699',\n",
       " '62bc351c-7408-40f5-bba2-54f9c2993e1f',\n",
       " 'fad0d438-6794-44da-9bc7-ef053db8c96a',\n",
       " '74e858e2-6f7c-41a0-bd0e-065827ef854e',\n",
       " '824be73d-db94-4acc-b65f-869cbeeb9e7f',\n",
       " '59ad5684-bdc0-4127-b2ec-21e5e3700793',\n",
       " '19dd59ec-09f7-4a45-bf34-8c95f2a01899',\n",
       " '4e5b4074-c16c-40ec-890c-07d0cec7c814',\n",
       " '22aef25a-96c5-4caf-a328-b59c43063fd6',\n",
       " 'aaeb741c-c5de-4376-9208-8479a815a241',\n",
       " 'e6b8fd93-0f31-412e-987d-fe0ceeaa0791',\n",
       " 'd06e23bb-0d9e-41fd-a50a-013f739e283c',\n",
       " '55d68ea5-f7cd-435c-bef4-fb38058531f0',\n",
       " 'dde6e2a5-72d3-4754-9153-16fed4ae224c',\n",
       " '0323041c-2a60-4a48-8b68-f79b33c58f95',\n",
       " '855205a8-4eb5-448b-91dd-cb27909eb883',\n",
       " '305283c1-5063-476f-8dfb-f0ed79003484',\n",
       " 'f958c84d-8082-47e3-89be-0a9e2d986ffc',\n",
       " '417c3f2d-48ba-4af2-9d5d-63df4c61e286',\n",
       " 'd213b9c6-e9a3-44c7-b0ed-769dc321c03c',\n",
       " 'afadd56c-0530-4e8d-840d-faf414217f90',\n",
       " 'efbead21-da59-48e4-8757-64c2d0a84d05',\n",
       " '4c5f9433-0243-4d0e-ab51-9262706fda07',\n",
       " '636aead5-d88c-47d4-bb74-232b57af4965',\n",
       " 'b3fc9fe1-2ee7-4aad-9fec-ddbf9a82c9c3',\n",
       " 'd1c4ed8b-400c-4de1-b9f6-173153f54ff0',\n",
       " '1aa4209e-a7c9-45c4-a538-21dcacd1e287',\n",
       " '5903d941-2b5f-4f32-9662-51fbb49d2518',\n",
       " '87a0e51f-02ae-46d9-8886-3ac4ff352263',\n",
       " 'a500888a-3383-4213-91aa-327e5c8e43e7',\n",
       " '708205e0-ce11-41d0-bc0b-74481170b90e',\n",
       " 'f4e1ec1a-8967-4e1e-a4c2-062b23cea73c',\n",
       " '902474c3-5d14-4d8d-80b1-fdfff7139706',\n",
       " '69d70f12-6087-4b74-8209-e0b8703af522',\n",
       " '1a062502-17fb-4d2c-9504-dd32f4173d1a',\n",
       " '50b673ea-df2a-47f2-a595-4c37bcf89c6f',\n",
       " '181bc268-541f-4758-a243-bbbf9011c5ac',\n",
       " '6ccd4d0e-071c-423f-8b83-517069889a43',\n",
       " 'af234b39-a6ab-44db-b7fd-7caf905d0519',\n",
       " '2de44247-f2c1-4c2c-95e8-4eb8be5d57ad',\n",
       " '9edf0ffb-b42f-4ebe-8001-b74b2fb1e304',\n",
       " '779b67fb-8955-449a-b086-d37f774b7c3c',\n",
       " '724ba2ac-3c58-4c43-b646-5ef5c851e786',\n",
       " '40f5b528-ad97-4bed-8ceb-37de60d8b1ac',\n",
       " '1e8a53d5-9dd1-4e35-aae4-182ea54a16f0',\n",
       " '988e9027-d8c0-47f4-8306-cbc2bc029e8b',\n",
       " '5388f18f-3cbe-4e93-9afb-570d249d22f5',\n",
       " '1b661cfe-60c9-4261-8d52-6a58ac44acff',\n",
       " 'a8b4a164-8376-433f-949b-2f1ff52155a5',\n",
       " 'cdcb6314-8926-48a0-abda-b966bb948a40',\n",
       " '3f7f2b88-1ccc-4956-a691-0b6b88d1f32e',\n",
       " '2603eb12-1f2f-45c0-be0a-ad759e52dff4',\n",
       " '3c0628c5-eb0e-4af6-9374-9f03835a624a',\n",
       " '0d011290-720d-457a-9286-099f8da03d7c',\n",
       " '64b68ffb-6189-4b9a-b994-85c47619f8da',\n",
       " 'b93c71e3-d98a-4439-85a2-5d8467480e11',\n",
       " 'b7eaa417-d5e4-4552-8d5d-789f6ba07ef2',\n",
       " '02bc2c00-9e98-4059-b55f-4f7f252514c0',\n",
       " '2816bca8-87bc-4d28-88c9-44c474dec1c7',\n",
       " 'aa8560cf-1275-4422-a423-c4a17c171bc1',\n",
       " '9db8d22c-0caf-4eef-a387-726efa74efa9',\n",
       " '1e971ab2-9c08-4317-b99f-2b26eb7c61e2',\n",
       " '67c26d87-24e1-4d31-8265-2683c6553ff8',\n",
       " '5c3b2099-fbe0-4c13-ab07-1f0196da772c',\n",
       " '81e5173a-7be1-4bcf-8c89-104aea56db3a',\n",
       " 'f1f7baac-6ee6-4318-acb2-ceadfdddcb39',\n",
       " '638b72c8-8366-4277-87e4-da4544edeab3',\n",
       " '088ed2bf-6ef5-4f02-940d-c548ebb38e98',\n",
       " '549efe22-b2ba-46bd-b5c3-bd44ec0d8002',\n",
       " 'df7f1535-12f4-4b7f-bf8f-820dac9e480a',\n",
       " 'e9244f12-f151-41a9-b301-9c8a52c53616',\n",
       " '0fc9d8d1-9c2d-4f69-9c57-4f4be584edf9',\n",
       " 'd98bcd6f-17b4-4e6e-a862-a7f9afb198a6',\n",
       " 'a51cb0b0-4227-4522-b69b-b7891924ec76',\n",
       " 'a00d39a2-097e-47a1-9e63-57082100383c',\n",
       " '06d0cf72-c49d-4e83-b4f6-27c6ce70b078',\n",
       " '348f46d7-ac1a-4a89-82ec-ad6bf10bff39',\n",
       " '527878bf-c8b6-4c16-b0fe-217c7c4f498c',\n",
       " 'e2ce1d9e-25ce-4b2b-9a65-cb7134ceb213',\n",
       " '66b5dcf6-11cd-4a99-82ad-2218e4b7beda',\n",
       " '5bf91e1b-8da2-40d8-b6f2-64a73a169e67',\n",
       " 'c6dca7f5-3696-461c-9a2d-a058c2c22eaa',\n",
       " 'a08c5840-d392-41d9-881e-3aa3a24c03fa',\n",
       " '47f78d76-c770-4a79-b14b-0583d14523ef',\n",
       " 'ae01b5ad-4c79-4c87-bc96-3f966b548922',\n",
       " '9f7e1128-69e0-430b-ab62-bfb0b6ceacbe',\n",
       " 'e8fd8b52-9bf3-4a8b-a0f3-80b68ff2dc4a',\n",
       " 'fc042bce-51ac-48e2-9242-0f247aff9df9',\n",
       " '02b74278-fbe9-4c02-8155-85c2d42488e0',\n",
       " '67a54e76-2f01-4987-81dc-8c7ea04a43f0',\n",
       " '1c0c35b4-c13b-47a1-85ef-974326d4708d',\n",
       " 'b32cfd17-1769-4d70-8781-54f2f095b003',\n",
       " 'bd9f01f0-bc0a-4d52-86f1-1a3980cce9f4',\n",
       " '5f2a593b-f961-47ca-a800-eb3ba35de5f9',\n",
       " '330e734d-94ae-4886-9712-43c8e5b22a62',\n",
       " 'b4328f28-5af1-4878-b69b-0f4c4b02f64b',\n",
       " '0b340415-e713-41e1-992a-c6473077b5f8',\n",
       " '7344d177-5c8d-4989-9f3f-417e24cd5864',\n",
       " 'e5a6df9e-d197-4a99-b4de-ab3ae165a7c9',\n",
       " '50b73a29-24d2-45f8-ae15-81c10a8f71c6',\n",
       " 'a67857d1-6a7d-4ded-a5fd-6de9b824a182',\n",
       " 'fbf423d2-4b2a-43ca-b659-4314be444287',\n",
       " '8f0bf51a-87ee-44b3-b39f-e2db39d047eb',\n",
       " '635566a6-1205-4d42-a43e-6f8e05136ccd',\n",
       " 'df59d5d2-a912-47f7-97de-194c2bdfe51c',\n",
       " '946bb64c-332a-49e7-83e0-e69fabd0595a',\n",
       " '388b404b-59c7-4774-96d9-19ea911e0ec3',\n",
       " 'ba892e1e-3a85-4c81-b37f-af453642b862',\n",
       " 'a6578cfb-e3e0-4a85-8c6f-765480debfbc',\n",
       " '243be360-42d9-40da-a21b-120c9bfcd757',\n",
       " 'e3f2f4e8-1935-414d-8ebc-507c14385c22',\n",
       " 'e1dbd81a-10f9-493a-adf9-f1fae0d2d875',\n",
       " '7ea1c2a9-af86-47a3-9f64-ebf55808b0df',\n",
       " '20c4df73-4b56-4e96-b2a0-f8b1d9468a48',\n",
       " '2e3cf320-c590-45cb-b192-b966ab8a1dc6',\n",
       " 'fb967f33-1870-4faf-8a70-de3516a92610',\n",
       " '247e45b8-02a5-4a9b-af99-9f50d806e7a1',\n",
       " 'c3703d64-ab87-4f54-a33e-67e1996f20c7',\n",
       " '8e638e3f-7fd5-4d50-92fe-2d12424806f8',\n",
       " 'dffd2a22-9f41-4d61-b730-b1819cc58887',\n",
       " '6be8eb33-4963-4eff-91b5-b5faa236e06d',\n",
       " '0ea0a4d9-d391-4ff7-9ed4-027ae34149bc',\n",
       " '937a7072-c6d8-44ab-bf15-5dce6f1add5e',\n",
       " 'd9e1e7b7-d4dc-4739-bb77-0b9042887418',\n",
       " 'c498a33e-00e2-4519-adb3-6793b4c9f51c',\n",
       " '0cb739ea-75a3-4c3a-abcf-e9cb9b85e675',\n",
       " '0e1d311d-f1f7-4c50-a662-adbe94a4d8d9',\n",
       " '7e8c679e-bcf2-4b3a-a6b4-2094604689b8',\n",
       " '66882918-5e7d-491d-972d-b0649ecbf3dd',\n",
       " 'db386ef9-785c-447c-97d7-bdf068b8f7f0',\n",
       " '9e1e08a6-2a1c-4cfc-86fd-e152a432b807',\n",
       " 'dad5eccb-2a2f-4926-b31c-4e511b22effd',\n",
       " '9752a480-1eb9-4a8d-9cea-8450ad2f85a7',\n",
       " 'd288bdcd-a923-4ff4-ad3c-caec7a7300e5',\n",
       " '8981882d-69bf-427a-bc80-7380c55ee53c',\n",
       " 'b1ae0c3b-3c56-4a7e-982b-18a92ca1fdda',\n",
       " '84df7a9c-489c-4ead-99ec-567554b12e62',\n",
       " 'dca52de2-5f16-4ae0-abd4-e1275d51a6d7',\n",
       " '7c2010cf-62e7-42aa-bb94-1e0fc4478370',\n",
       " '1dcaf533-727e-4c75-b44a-27f90c81ac54',\n",
       " '714eddda-d090-4671-acd9-bc2772979354',\n",
       " '178361ac-2832-4218-b08b-4c60d0a4b37a',\n",
       " 'a393afc3-2777-4d91-aa55-6023ef78e306',\n",
       " 'b960462f-b0f8-4129-ad9c-d4b9c6e7418c',\n",
       " '68795513-1da2-4496-8fb5-a331f92ee023',\n",
       " 'c1c07834-45be-4b17-aff3-29c16830c959',\n",
       " '5783482a-bb97-45f7-a706-f348fe8ca9d3',\n",
       " '38b42b90-e43d-461d-8f65-6cb9b92d3398',\n",
       " '6864fcfa-25cb-45f6-b136-62e192f4dfe8',\n",
       " 'acdd8e02-2fba-4fcf-8e1c-5953971db95b',\n",
       " 'd116bb88-b194-461c-9982-d62f30b59909',\n",
       " '610864c1-6a4e-4107-86ab-a58eb7562628',\n",
       " '66956a8e-a73d-47b3-8f40-ad601c14a881',\n",
       " '201d8fa5-3efd-4ea6-8c50-0ca0f855ad5d',\n",
       " '40673ac4-973c-4f1b-80f5-e90560b7d55c',\n",
       " 'ae0f5435-4913-4e9d-949c-2ee5f4c6546d',\n",
       " '35fb7a01-0066-4526-8f30-c99eb0366dec',\n",
       " 'b49eac62-a084-4a70-9706-1c63aeefff12',\n",
       " '5b80952c-97e7-4d90-8b33-0c03250a3497',\n",
       " 'ec58b91d-76be-41c5-8a47-bd97d8b14f7a',\n",
       " '1cbed2d4-0650-4319-a1e3-214a5defe534',\n",
       " 'd642071b-05c1-4e77-a26f-a8aaf93d3d2d',\n",
       " '271ac68c-bd16-4d48-80dc-8291408332bd',\n",
       " '210035bd-15d6-499c-bd0d-628b2ce7e63e',\n",
       " '2b252847-a778-4274-9e43-dd499b07a745',\n",
       " '30b019b7-715c-40de-a2b9-585b601f15fa',\n",
       " 'ab73adab-4423-4609-9432-1f93bff8b435',\n",
       " '7bb1e556-8cbe-46d2-bd4f-77320d312c89',\n",
       " '371803f1-64f5-497b-8ac0-c08dfbace892',\n",
       " 'd9f9a93c-43a7-4476-8076-853ae381cbe0',\n",
       " '5f0d96e5-43f1-452f-9406-84614155c666',\n",
       " '4c898f31-8a87-43db-9ae4-bf8f3084f1a1',\n",
       " '80afcf57-c728-400c-a260-1b97ffe97d69',\n",
       " 'b1e4c5bc-5dca-4958-b58e-f8af6837560a',\n",
       " '50b7853a-7829-409d-a039-921e7264f94d',\n",
       " 'b28830d5-a426-407f-b41c-bd5ab2ffadea',\n",
       " '69233a0a-2424-4489-8f13-94c597485719',\n",
       " 'c7ce8720-de4b-4ef2-a922-a9e45672f9b7',\n",
       " '33a1f586-56cf-47da-9a30-f61118d2c44b',\n",
       " '236e7759-8ab9-4c79-8755-389524360780',\n",
       " '645ddace-0b38-4579-9842-5a650b38dcd7',\n",
       " 'a2d602c4-5982-40e7-b615-54c6586d384f',\n",
       " '4e0ae79f-c1b1-49c0-ab3b-fb457d79b73f',\n",
       " '066f202e-149c-4915-b87f-0a287ab6ee9b',\n",
       " '38c645e8-d873-46f6-ad12-26cd526c77fe',\n",
       " 'c3c80cff-ccc7-447d-a74c-be52112725b7',\n",
       " '279802b3-77af-45c3-867a-3f7fc55463d6',\n",
       " '51991df7-4da3-43cc-b55e-9d1a5093ad2e',\n",
       " 'f860519b-6e00-4649-9c1c-4f7107f61664',\n",
       " '4a5759fd-9a08-4c88-a748-7bb3a1b86fa6',\n",
       " '932fb3da-aeed-4477-90bf-d1e93c640915',\n",
       " '69644457-8917-46d6-a776-3cd2a0e1eabc',\n",
       " '0923917d-fb3a-4171-9225-b67a9069b848',\n",
       " '5e05b25e-e8fc-4998-8538-4f325f0cf9a1',\n",
       " '8f665033-dfbe-4808-b18b-1511d57aeb27',\n",
       " '144c3c2e-7277-43c7-81fa-02eb8cf15611',\n",
       " 'cb410165-c5e8-419c-8e37-d21dccd7713c',\n",
       " 'bcd6497f-9c88-410c-afc4-1279c7d8eb4a',\n",
       " 'b259041c-5a04-49de-b016-b62e1946b5eb',\n",
       " '8422df76-f3d2-4ad1-9c42-eab7ccf61b23',\n",
       " '432b6225-e1db-4cdc-94e2-0c9e1bf3cb72',\n",
       " 'd7cd54c9-ce31-4317-b9ee-98cb425e0341',\n",
       " 'b858b08c-5371-4dfd-b205-1d000ddb8814']"
      ]
     },
     "execution_count": 10,
     "metadata": {},
     "output_type": "execute_result"
    }
   ],
   "source": [
    "from uuid import uuid4\n",
    "\n",
    "uuids = [str(uuid4()) for _ in range(len(chunk_text))] + [str(uuid4()) for _ in range(len(chunk_pdf))] \n",
    "\n",
    "vector_store.add_documents(documents=chunk_text, ids=uuids)\n",
    "# vector_store.add_documents(documents=chunk_pdf, ids=uuids)"
   ]
  },
  {
   "cell_type": "markdown",
   "metadata": {},
   "source": [
    "### Retrieval"
   ]
  },
  {
   "cell_type": "code",
   "execution_count": 11,
   "metadata": {},
   "outputs": [
    {
     "name": "stdout",
     "output_type": "stream",
     "text": [
      "* While other Rajput clans accepted the supremacy of the Mughal Empire, he was the only person who stood alone against the Akbar, for this Maharana Pratap was so powerful.\n",
      "\n",
      "Amar Singh, Shakti Singh, Kunwar Vijay Singh, Kunwar Pratap Singh were the Maharana Pratapâ€™s son.\n",
      "\n",
      "Battle of Haldighati was the last war of Maharana Pratap.\n",
      "\n",
      "Maharana Pratap died in Chavand, Mewar, which is located in present-day Rajasthan, India. [{'source': 'docs\\\\Maharana_PratapJi.txt'}]\n",
      "* While other Rajput clans accepted the supremacy of the Mughal Empire, he was the only person who stood alone against the Akbar, for this Maharana Pratap was so powerful.\n",
      "\n",
      "Amar Singh, Shakti Singh, Kunwar Vijay Singh, Kunwar Pratap Singh were the Maharana Pratapâ€™s son.\n",
      "\n",
      "Battle of Haldighati was the last war of Maharana Pratap.\n",
      "\n",
      "Maharana Pratap died in Chavand, Mewar, which is located in present-day Rajasthan, India. [{'source': 'docs\\\\Maharana_PratapJi.txt'}]\n"
     ]
    }
   ],
   "source": [
    "results = vector_store.similarity_search(\n",
    "    \"What was the last war of Maharana Pratap?\",\n",
    "    k=2\n",
    ")\n",
    "for res in results:\n",
    "    print(f\"* {res.page_content} [{res.metadata}]\")"
   ]
  },
  {
   "cell_type": "code",
   "execution_count": 12,
   "metadata": {},
   "outputs": [
    {
     "name": "stdout",
     "output_type": "stream",
     "text": [
      "* Hinduism was the predominant religion in Mewar, and the patronage of temples and religious institutions continued during Maharana Pratapâ€™s rule.\n",
      "The rulers, including Maharana Pratap, were devout Hindus, and religious rituals and festivals played a significant role in the court and public life.\n",
      "Literature: [{'source': 'docs\\\\Maharana_PratapJi.txt'}]\n",
      "* Hinduism was the predominant religion in Mewar, and the patronage of temples and religious institutions continued during Maharana Pratapâ€™s rule.\n",
      "The rulers, including Maharana Pratap, were devout Hindus, and religious rituals and festivals played a significant role in the court and public life.\n",
      "Literature: [{'source': 'docs\\\\Maharana_PratapJi.txt'}]\n"
     ]
    }
   ],
   "source": [
    "results = vector_store.similarity_search(\n",
    "    \"What Fixed Income Instruments?\",\n",
    "    k=2\n",
    ")\n",
    "for res in results:\n",
    "    print(f\"* {res.page_content} [{res.metadata}]\")"
   ]
  }
 ],
 "metadata": {
  "kernelspec": {
   "display_name": "langenv",
   "language": "python",
   "name": "python3"
  },
  "language_info": {
   "codemirror_mode": {
    "name": "ipython",
    "version": 3
   },
   "file_extension": ".py",
   "mimetype": "text/x-python",
   "name": "python",
   "nbconvert_exporter": "python",
   "pygments_lexer": "ipython3",
   "version": "3.10.6"
  }
 },
 "nbformat": 4,
 "nbformat_minor": 2
}
